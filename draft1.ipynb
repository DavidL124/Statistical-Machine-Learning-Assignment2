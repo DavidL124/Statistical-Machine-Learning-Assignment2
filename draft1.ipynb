{
 "cells": [
  {
   "cell_type": "code",
   "execution_count": 42,
   "id": "741339a4-47db-44b9-b374-5216b66e8446",
   "metadata": {},
   "outputs": [],
   "source": [
    "import json\n",
    "import matplotlib.pyplot as plt\n",
    "import pandas as pd\n",
    "import numpy as np\n",
    "from collections import defaultdict as dd"
   ]
  },
  {
   "cell_type": "code",
   "execution_count": 54,
   "id": "0e7c1d6d-2d70-45a9-8cec-ac81cc0079d8",
   "metadata": {},
   "outputs": [],
   "source": [
    "file = open(\"train.json\")"
   ]
  },
  {
   "cell_type": "code",
   "execution_count": 55,
   "id": "1a37a6b1-8956-43f3-a423-1683a3be21ca",
   "metadata": {},
   "outputs": [],
   "source": [
    "data = json.load(file)"
   ]
  },
  {
   "cell_type": "code",
   "execution_count": 10,
   "id": "1445ebba-c9a3-43d0-afa1-c21c9b2cfc66",
   "metadata": {},
   "outputs": [],
   "source": [
    "len(data)\n",
    "years = []"
   ]
  },
  {
   "cell_type": "code",
   "execution_count": 12,
   "id": "626dfb84-7d3f-469b-84d5-f1a684ea84b6",
   "metadata": {},
   "outputs": [],
   "source": [
    "for item in data:\n",
    "    years.append(item['year'])"
   ]
  },
  {
   "cell_type": "code",
   "execution_count": 14,
   "id": "ff9684a8-bcc6-483a-a441-c7932505eab3",
   "metadata": {},
   "outputs": [
    {
     "data": {
      "text/plain": [
       "[0, 1, 2, 3, 4, 5, 6, 7, 8, 9, 10, 11, 12, 13, 14, 15, 16, 17, 18]"
      ]
     },
     "execution_count": 14,
     "metadata": {},
     "output_type": "execute_result"
    }
   ],
   "source": [
    "list(set(years))"
   ]
  },
  {
   "cell_type": "code",
   "execution_count": 17,
   "id": "417d0e19-c5ad-4379-9166-cc219d11db62",
   "metadata": {},
   "outputs": [
    {
     "data": {
      "text/plain": [
       "tensor([[-3.7245, -0.4107, -1.8221,  0.8584, -1.4210, -4.8257, -0.9154, -2.4501],\n",
       "        [-1.8123, -2.5821,  5.1923,  2.7901,  3.2973, -3.9514, -2.3031,  2.4315],\n",
       "        [-1.3746,  0.9364, -1.8270,  4.6121,  1.7852, -2.6717,  0.7162, -5.7360],\n",
       "        [ 0.0375,  0.6626, -1.3692, -1.4131, -1.4553,  0.0989,  0.4685, -1.4410]])"
      ]
     },
     "execution_count": 17,
     "metadata": {},
     "output_type": "execute_result"
    }
   ],
   "source": [
    "#!pip3 install torch\n",
    "import torch\n",
    "# Create matrices with entries drawn from the standard normal, and multiply them\n",
    "x_pt = torch.randn(size=[4,4])\n",
    "y_pt = torch.randn(size=[4,8])\n",
    "z_pt = torch.matmul(x_pt, y_pt)\n",
    "z_pt"
   ]
  },
  {
   "cell_type": "code",
   "execution_count": 19,
   "id": "a06f0cd2-8164-48d2-85b2-d97a0f42e1b3",
   "metadata": {},
   "outputs": [
    {
     "data": {
      "text/plain": [
       "{'authors': [42, 13720, 36],\n",
       " 'year': 9,\n",
       " 'abstract': [2455,\n",
       "  1858,\n",
       "  2335,\n",
       "  1543,\n",
       "  1800,\n",
       "  1860,\n",
       "  2000,\n",
       "  2867,\n",
       "  1546,\n",
       "  1874,\n",
       "  2059,\n",
       "  1525,\n",
       "  2590,\n",
       "  4196,\n",
       "  12,\n",
       "  2634,\n",
       "  1543,\n",
       "  1800,\n",
       "  1586,\n",
       "  2866,\n",
       "  3595,\n",
       "  1866,\n",
       "  1670,\n",
       "  2000,\n",
       "  3743,\n",
       "  1542,\n",
       "  1650,\n",
       "  1527,\n",
       "  33,\n",
       "  4407,\n",
       "  1543,\n",
       "  1535,\n",
       "  1962,\n",
       "  1961,\n",
       "  1543,\n",
       "  33,\n",
       "  1700,\n",
       "  1543,\n",
       "  1535,\n",
       "  1647,\n",
       "  1546,\n",
       "  1580,\n",
       "  4720,\n",
       "  12,\n",
       "  1731,\n",
       "  4231,\n",
       "  2601,\n",
       "  1553,\n",
       "  1704,\n",
       "  1605,\n",
       "  2456,\n",
       "  1543,\n",
       "  3281,\n",
       "  1594,\n",
       "  4407,\n",
       "  2168,\n",
       "  1542,\n",
       "  1586,\n",
       "  3781,\n",
       "  2471,\n",
       "  1525,\n",
       "  1859,\n",
       "  1669,\n",
       "  2512,\n",
       "  4572,\n",
       "  1546,\n",
       "  1609,\n",
       "  3781,\n",
       "  2471,\n",
       "  1525,\n",
       "  3393,\n",
       "  12,\n",
       "  37,\n",
       "  1712,\n",
       "  1586,\n",
       "  4196,\n",
       "  1650,\n",
       "  1527,\n",
       "  3281,\n",
       "  1594,\n",
       "  4407,\n",
       "  1800,\n",
       "  4708,\n",
       "  1904,\n",
       "  2059,\n",
       "  2411,\n",
       "  12],\n",
       " 'venue': 20,\n",
       " 'title': [41,\n",
       "  1550,\n",
       "  1563,\n",
       "  1594,\n",
       "  1544,\n",
       "  1919,\n",
       "  1644,\n",
       "  37,\n",
       "  1539,\n",
       "  1715,\n",
       "  1553,\n",
       "  1541,\n",
       "  1536,\n",
       "  1532,\n",
       "  1872,\n",
       "  1538]}"
      ]
     },
     "execution_count": 19,
     "metadata": {},
     "output_type": "execute_result"
    }
   ],
   "source": [
    "data[0]"
   ]
  },
  {
   "cell_type": "code",
   "execution_count": 56,
   "id": "f738fbe7-9655-44af-ad1d-cdbb7e91fb4a",
   "metadata": {},
   "outputs": [],
   "source": [
    "#Read into a dataframe.\n",
    "data_f = pd.read_json(\"train.json\")\n",
    "data_f[\"author\"] = data_f[\"authors\"]\n",
    "#pd.json_normalize(data, record_path = ['authors'])"
   ]
  },
  {
   "cell_type": "code",
   "execution_count": 61,
   "id": "baf4174d-fdfd-4164-8500-139ffa7125c3",
   "metadata": {},
   "outputs": [
    {
     "data": {
      "text/html": [
       "<div>\n",
       "<style scoped>\n",
       "    .dataframe tbody tr th:only-of-type {\n",
       "        vertical-align: middle;\n",
       "    }\n",
       "\n",
       "    .dataframe tbody tr th {\n",
       "        vertical-align: top;\n",
       "    }\n",
       "\n",
       "    .dataframe thead th {\n",
       "        text-align: right;\n",
       "    }\n",
       "</style>\n",
       "<table border=\"1\" class=\"dataframe\">\n",
       "  <thead>\n",
       "    <tr style=\"text-align: right;\">\n",
       "      <th></th>\n",
       "      <th>authors</th>\n",
       "      <th>year</th>\n",
       "      <th>abstract</th>\n",
       "      <th>venue</th>\n",
       "      <th>title</th>\n",
       "      <th>author</th>\n",
       "    </tr>\n",
       "  </thead>\n",
       "  <tbody>\n",
       "    <tr>\n",
       "      <th>0</th>\n",
       "      <td>[42, 13720, 36]</td>\n",
       "      <td>9</td>\n",
       "      <td>[2455, 1858, 2335, 1543, 1800, 1860, 2000, 286...</td>\n",
       "      <td>20</td>\n",
       "      <td>[41, 1550, 1563, 1594, 1544, 1919, 1644, 37, 1...</td>\n",
       "      <td>42</td>\n",
       "    </tr>\n",
       "    <tr>\n",
       "      <th>0</th>\n",
       "      <td>[42, 13720, 36]</td>\n",
       "      <td>9</td>\n",
       "      <td>[2455, 1858, 2335, 1543, 1800, 1860, 2000, 286...</td>\n",
       "      <td>20</td>\n",
       "      <td>[41, 1550, 1563, 1594, 1544, 1919, 1644, 37, 1...</td>\n",
       "      <td>13720</td>\n",
       "    </tr>\n",
       "    <tr>\n",
       "      <th>0</th>\n",
       "      <td>[42, 13720, 36]</td>\n",
       "      <td>9</td>\n",
       "      <td>[2455, 1858, 2335, 1543, 1800, 1860, 2000, 286...</td>\n",
       "      <td>20</td>\n",
       "      <td>[41, 1550, 1563, 1594, 1544, 1919, 1644, 37, 1...</td>\n",
       "      <td>36</td>\n",
       "    </tr>\n",
       "    <tr>\n",
       "      <th>1</th>\n",
       "      <td>[1359, 15881, 45]</td>\n",
       "      <td>15</td>\n",
       "      <td>[40, 1542, 1691, 2449, 1535, 3616, 2206, 1904,...</td>\n",
       "      <td>2</td>\n",
       "      <td>[1731, 47, 11, 57, 4624, 1525, 1535, 47, 11, 3...</td>\n",
       "      <td>1359</td>\n",
       "    </tr>\n",
       "    <tr>\n",
       "      <th>1</th>\n",
       "      <td>[1359, 15881, 45]</td>\n",
       "      <td>15</td>\n",
       "      <td>[40, 1542, 1691, 2449, 1535, 3616, 2206, 1904,...</td>\n",
       "      <td>2</td>\n",
       "      <td>[1731, 47, 11, 57, 4624, 1525, 1535, 47, 11, 3...</td>\n",
       "      <td>15881</td>\n",
       "    </tr>\n",
       "    <tr>\n",
       "      <th>...</th>\n",
       "      <td>...</td>\n",
       "      <td>...</td>\n",
       "      <td>...</td>\n",
       "      <td>...</td>\n",
       "      <td>...</td>\n",
       "      <td>...</td>\n",
       "    </tr>\n",
       "    <tr>\n",
       "      <th>25792</th>\n",
       "      <td>[281, 2963, 9046, 3318, 4575, 2246, 395]</td>\n",
       "      <td>14</td>\n",
       "      <td>[1555, 1544, 3429, 1866, 4012, 33, 3080, 4172,...</td>\n",
       "      <td>9</td>\n",
       "      <td>[56, 48, 1588, 2374, 47, 1695, 1609, 1641, 157...</td>\n",
       "      <td>9046</td>\n",
       "    </tr>\n",
       "    <tr>\n",
       "      <th>25792</th>\n",
       "      <td>[281, 2963, 9046, 3318, 4575, 2246, 395]</td>\n",
       "      <td>14</td>\n",
       "      <td>[1555, 1544, 3429, 1866, 4012, 33, 3080, 4172,...</td>\n",
       "      <td>9</td>\n",
       "      <td>[56, 48, 1588, 2374, 47, 1695, 1609, 1641, 157...</td>\n",
       "      <td>3318</td>\n",
       "    </tr>\n",
       "    <tr>\n",
       "      <th>25792</th>\n",
       "      <td>[281, 2963, 9046, 3318, 4575, 2246, 395]</td>\n",
       "      <td>14</td>\n",
       "      <td>[1555, 1544, 3429, 1866, 4012, 33, 3080, 4172,...</td>\n",
       "      <td>9</td>\n",
       "      <td>[56, 48, 1588, 2374, 47, 1695, 1609, 1641, 157...</td>\n",
       "      <td>4575</td>\n",
       "    </tr>\n",
       "    <tr>\n",
       "      <th>25792</th>\n",
       "      <td>[281, 2963, 9046, 3318, 4575, 2246, 395]</td>\n",
       "      <td>14</td>\n",
       "      <td>[1555, 1544, 3429, 1866, 4012, 33, 3080, 4172,...</td>\n",
       "      <td>9</td>\n",
       "      <td>[56, 48, 1588, 2374, 47, 1695, 1609, 1641, 157...</td>\n",
       "      <td>2246</td>\n",
       "    </tr>\n",
       "    <tr>\n",
       "      <th>25792</th>\n",
       "      <td>[281, 2963, 9046, 3318, 4575, 2246, 395]</td>\n",
       "      <td>14</td>\n",
       "      <td>[1555, 1544, 3429, 1866, 4012, 33, 3080, 4172,...</td>\n",
       "      <td>9</td>\n",
       "      <td>[56, 48, 1588, 2374, 47, 1695, 1609, 1641, 157...</td>\n",
       "      <td>395</td>\n",
       "    </tr>\n",
       "  </tbody>\n",
       "</table>\n",
       "<p>83340 rows × 6 columns</p>\n",
       "</div>"
      ],
      "text/plain": [
       "                                        authors  year  \\\n",
       "0                               [42, 13720, 36]     9   \n",
       "0                               [42, 13720, 36]     9   \n",
       "0                               [42, 13720, 36]     9   \n",
       "1                             [1359, 15881, 45]    15   \n",
       "1                             [1359, 15881, 45]    15   \n",
       "...                                         ...   ...   \n",
       "25792  [281, 2963, 9046, 3318, 4575, 2246, 395]    14   \n",
       "25792  [281, 2963, 9046, 3318, 4575, 2246, 395]    14   \n",
       "25792  [281, 2963, 9046, 3318, 4575, 2246, 395]    14   \n",
       "25792  [281, 2963, 9046, 3318, 4575, 2246, 395]    14   \n",
       "25792  [281, 2963, 9046, 3318, 4575, 2246, 395]    14   \n",
       "\n",
       "                                                abstract venue  \\\n",
       "0      [2455, 1858, 2335, 1543, 1800, 1860, 2000, 286...    20   \n",
       "0      [2455, 1858, 2335, 1543, 1800, 1860, 2000, 286...    20   \n",
       "0      [2455, 1858, 2335, 1543, 1800, 1860, 2000, 286...    20   \n",
       "1      [40, 1542, 1691, 2449, 1535, 3616, 2206, 1904,...     2   \n",
       "1      [40, 1542, 1691, 2449, 1535, 3616, 2206, 1904,...     2   \n",
       "...                                                  ...   ...   \n",
       "25792  [1555, 1544, 3429, 1866, 4012, 33, 3080, 4172,...     9   \n",
       "25792  [1555, 1544, 3429, 1866, 4012, 33, 3080, 4172,...     9   \n",
       "25792  [1555, 1544, 3429, 1866, 4012, 33, 3080, 4172,...     9   \n",
       "25792  [1555, 1544, 3429, 1866, 4012, 33, 3080, 4172,...     9   \n",
       "25792  [1555, 1544, 3429, 1866, 4012, 33, 3080, 4172,...     9   \n",
       "\n",
       "                                                   title author  \n",
       "0      [41, 1550, 1563, 1594, 1544, 1919, 1644, 37, 1...     42  \n",
       "0      [41, 1550, 1563, 1594, 1544, 1919, 1644, 37, 1...  13720  \n",
       "0      [41, 1550, 1563, 1594, 1544, 1919, 1644, 37, 1...     36  \n",
       "1      [1731, 47, 11, 57, 4624, 1525, 1535, 47, 11, 3...   1359  \n",
       "1      [1731, 47, 11, 57, 4624, 1525, 1535, 47, 11, 3...  15881  \n",
       "...                                                  ...    ...  \n",
       "25792  [56, 48, 1588, 2374, 47, 1695, 1609, 1641, 157...   9046  \n",
       "25792  [56, 48, 1588, 2374, 47, 1695, 1609, 1641, 157...   3318  \n",
       "25792  [56, 48, 1588, 2374, 47, 1695, 1609, 1641, 157...   4575  \n",
       "25792  [56, 48, 1588, 2374, 47, 1695, 1609, 1641, 157...   2246  \n",
       "25792  [56, 48, 1588, 2374, 47, 1695, 1609, 1641, 157...    395  \n",
       "\n",
       "[83340 rows x 6 columns]"
      ]
     },
     "execution_count": 61,
     "metadata": {},
     "output_type": "execute_result"
    }
   ],
   "source": [
    "data_expand = data_f.explode(\"author\")\n",
    "data_expand"
   ]
  },
  {
   "cell_type": "code",
   "execution_count": 64,
   "id": "d1f6c2ae-8ffd-4b6b-b18e-72c62f141d96",
   "metadata": {},
   "outputs": [
    {
     "data": {
      "text/html": [
       "<div>\n",
       "<style scoped>\n",
       "    .dataframe tbody tr th:only-of-type {\n",
       "        vertical-align: middle;\n",
       "    }\n",
       "\n",
       "    .dataframe tbody tr th {\n",
       "        vertical-align: top;\n",
       "    }\n",
       "\n",
       "    .dataframe thead th {\n",
       "        text-align: right;\n",
       "    }\n",
       "</style>\n",
       "<table border=\"1\" class=\"dataframe\">\n",
       "  <thead>\n",
       "    <tr style=\"text-align: right;\">\n",
       "      <th></th>\n",
       "      <th>authors</th>\n",
       "      <th>year</th>\n",
       "      <th>abstract</th>\n",
       "      <th>venue</th>\n",
       "      <th>title</th>\n",
       "      <th>author</th>\n",
       "    </tr>\n",
       "  </thead>\n",
       "  <tbody>\n",
       "    <tr>\n",
       "      <th>0</th>\n",
       "      <td>[42, 13720, 36]</td>\n",
       "      <td>9</td>\n",
       "      <td>[2455, 1858, 2335, 1543, 1800, 1860, 2000, 286...</td>\n",
       "      <td>20</td>\n",
       "      <td>[41, 1550, 1563, 1594, 1544, 1919, 1644, 37, 1...</td>\n",
       "      <td>42</td>\n",
       "    </tr>\n",
       "    <tr>\n",
       "      <th>0</th>\n",
       "      <td>[42, 13720, 36]</td>\n",
       "      <td>9</td>\n",
       "      <td>[2455, 1858, 2335, 1543, 1800, 1860, 2000, 286...</td>\n",
       "      <td>20</td>\n",
       "      <td>[41, 1550, 1563, 1594, 1544, 1919, 1644, 37, 1...</td>\n",
       "      <td>36</td>\n",
       "    </tr>\n",
       "    <tr>\n",
       "      <th>1</th>\n",
       "      <td>[1359, 15881, 45]</td>\n",
       "      <td>15</td>\n",
       "      <td>[40, 1542, 1691, 2449, 1535, 3616, 2206, 1904,...</td>\n",
       "      <td>2</td>\n",
       "      <td>[1731, 47, 11, 57, 4624, 1525, 1535, 47, 11, 3...</td>\n",
       "      <td>45</td>\n",
       "    </tr>\n",
       "    <tr>\n",
       "      <th>3</th>\n",
       "      <td>[97]</td>\n",
       "      <td>10</td>\n",
       "      <td>[46, 1624, 1547, 56, 1687, 1644, 6, 7, 3386, 1...</td>\n",
       "      <td>4</td>\n",
       "      <td>[40, 1733, 1735, 1540, 1655, 46, 1624, 1547, 5...</td>\n",
       "      <td>97</td>\n",
       "    </tr>\n",
       "    <tr>\n",
       "      <th>4</th>\n",
       "      <td>[19617, 2]</td>\n",
       "      <td>10</td>\n",
       "      <td>[37, 3709, 3836, 1586, 2151, 1727, 3021, 1860,...</td>\n",
       "      <td>9</td>\n",
       "      <td>[38, 1592, 2088, 1543, 1574, 1727, 1597, 1813,...</td>\n",
       "      <td>2</td>\n",
       "    </tr>\n",
       "    <tr>\n",
       "      <th>...</th>\n",
       "      <td>...</td>\n",
       "      <td>...</td>\n",
       "      <td>...</td>\n",
       "      <td>...</td>\n",
       "      <td>...</td>\n",
       "      <td>...</td>\n",
       "    </tr>\n",
       "    <tr>\n",
       "      <th>25767</th>\n",
       "      <td>[19974, 68, 8903]</td>\n",
       "      <td>1</td>\n",
       "      <td>[40, 1542, 1691, 2449, 1535, 2855, 1549, 1755,...</td>\n",
       "      <td>23</td>\n",
       "      <td>[1708, 33, 58, 57, 2174, 1548, 1538, 1553, 359...</td>\n",
       "      <td>68</td>\n",
       "    </tr>\n",
       "    <tr>\n",
       "      <th>25776</th>\n",
       "      <td>[6353, 67, 3037, 15856, 13521]</td>\n",
       "      <td>10</td>\n",
       "      <td>[40, 1542, 1691, 2907, 1540, 1535, 2121, 2431,...</td>\n",
       "      <td>10</td>\n",
       "      <td>[53, 2555, 4480, 1535, 1637, 1898, 1549, 53, 3...</td>\n",
       "      <td>67</td>\n",
       "    </tr>\n",
       "    <tr>\n",
       "      <th>25778</th>\n",
       "      <td>[7686, 3810, 87, 7451]</td>\n",
       "      <td>16</td>\n",
       "      <td>[2144, 1661, 2151, 1966, 3776, 4864, 1546, 219...</td>\n",
       "      <td>31</td>\n",
       "      <td>[1615, 1966, 11, 3238, 1653, 3318, 24, 2144, 1...</td>\n",
       "      <td>87</td>\n",
       "    </tr>\n",
       "    <tr>\n",
       "      <th>25781</th>\n",
       "      <td>[14864, 92]</td>\n",
       "      <td>16</td>\n",
       "      <td>[37, 1662, 33, 1814, 2036, 1692, 1553, 2333, 2...</td>\n",
       "      <td>0</td>\n",
       "      <td>[46, 1670, 1826, 37, 1632, 46, 1991, 1525, 152...</td>\n",
       "      <td>92</td>\n",
       "    </tr>\n",
       "    <tr>\n",
       "      <th>25788</th>\n",
       "      <td>[1797, 78]</td>\n",
       "      <td>14</td>\n",
       "      <td>[46, 1605, 1681, 10, 1557, 4741, 1535, 2021, 1...</td>\n",
       "      <td>1</td>\n",
       "      <td>[46, 1910, 36, 2107, 1547, 1553, 1716, 1528, 5...</td>\n",
       "      <td>78</td>\n",
       "    </tr>\n",
       "  </tbody>\n",
       "</table>\n",
       "<p>8938 rows × 6 columns</p>\n",
       "</div>"
      ],
      "text/plain": [
       "                              authors  year  \\\n",
       "0                     [42, 13720, 36]     9   \n",
       "0                     [42, 13720, 36]     9   \n",
       "1                   [1359, 15881, 45]    15   \n",
       "3                                [97]    10   \n",
       "4                          [19617, 2]    10   \n",
       "...                               ...   ...   \n",
       "25767               [19974, 68, 8903]     1   \n",
       "25776  [6353, 67, 3037, 15856, 13521]    10   \n",
       "25778          [7686, 3810, 87, 7451]    16   \n",
       "25781                     [14864, 92]    16   \n",
       "25788                      [1797, 78]    14   \n",
       "\n",
       "                                                abstract venue  \\\n",
       "0      [2455, 1858, 2335, 1543, 1800, 1860, 2000, 286...    20   \n",
       "0      [2455, 1858, 2335, 1543, 1800, 1860, 2000, 286...    20   \n",
       "1      [40, 1542, 1691, 2449, 1535, 3616, 2206, 1904,...     2   \n",
       "3      [46, 1624, 1547, 56, 1687, 1644, 6, 7, 3386, 1...     4   \n",
       "4      [37, 3709, 3836, 1586, 2151, 1727, 3021, 1860,...     9   \n",
       "...                                                  ...   ...   \n",
       "25767  [40, 1542, 1691, 2449, 1535, 2855, 1549, 1755,...    23   \n",
       "25776  [40, 1542, 1691, 2907, 1540, 1535, 2121, 2431,...    10   \n",
       "25778  [2144, 1661, 2151, 1966, 3776, 4864, 1546, 219...    31   \n",
       "25781  [37, 1662, 33, 1814, 2036, 1692, 1553, 2333, 2...     0   \n",
       "25788  [46, 1605, 1681, 10, 1557, 4741, 1535, 2021, 1...     1   \n",
       "\n",
       "                                                   title author  \n",
       "0      [41, 1550, 1563, 1594, 1544, 1919, 1644, 37, 1...     42  \n",
       "0      [41, 1550, 1563, 1594, 1544, 1919, 1644, 37, 1...     36  \n",
       "1      [1731, 47, 11, 57, 4624, 1525, 1535, 47, 11, 3...     45  \n",
       "3      [40, 1733, 1735, 1540, 1655, 46, 1624, 1547, 5...     97  \n",
       "4      [38, 1592, 2088, 1543, 1574, 1727, 1597, 1813,...      2  \n",
       "...                                                  ...    ...  \n",
       "25767  [1708, 33, 58, 57, 2174, 1548, 1538, 1553, 359...     68  \n",
       "25776  [53, 2555, 4480, 1535, 1637, 1898, 1549, 53, 3...     67  \n",
       "25778  [1615, 1966, 11, 3238, 1653, 3318, 24, 2144, 1...     87  \n",
       "25781  [46, 1670, 1826, 37, 1632, 46, 1991, 1525, 152...     92  \n",
       "25788  [46, 1910, 36, 2107, 1547, 1553, 1716, 1528, 5...     78  \n",
       "\n",
       "[8938 rows x 6 columns]"
      ]
     },
     "execution_count": 64,
     "metadata": {},
     "output_type": "execute_result"
    }
   ],
   "source": [
    "#expand = pd.DataFrame({\"author\":data.apply(lambda x: pd.Series(data['authors']),axis=1).stack().reset_index(level=1, drop=True),})\n",
    "#init_lst = []\n",
    "#for item in data:\n",
    "#    for author in item['authors']:\n",
    "#        init_lst.append()\n",
    "data_prolific = data_expand[data_expand['author'] < 100]\n",
    "#data_prolific"
   ]
  },
  {
   "cell_type": "code",
   "execution_count": 76,
   "id": "946f06a1-89b1-4fe9-922c-68ed02897835",
   "metadata": {},
   "outputs": [
    {
     "name": "stdout",
     "output_type": "stream",
     "text": [
      "author  year\n",
      "0       0       2\n",
      "        1       2\n",
      "        2       5\n",
      "        3       7\n",
      "        4       5\n",
      "               ..\n",
      "99      11      1\n",
      "        12      2\n",
      "        15      1\n",
      "        16      3\n",
      "        17      1\n",
      "Length: 1566, dtype: int64\n"
     ]
    }
   ],
   "source": [
    "#The other data can be summarised\n",
    "data_author = data_prolific.groupby(['author', 'year']).size()\n",
    "print(data_author)\n",
    "data_author.to_csv('year_authors.csv')"
   ]
  },
  {
   "cell_type": "code",
   "execution_count": 22,
   "id": "63e91d45-e9f4-4858-a80b-36d61f2100ec",
   "metadata": {},
   "outputs": [
    {
     "data": {
      "text/plain": [
       "(array([ 820., 1111., 1477., 1842., 1403., 3029., 3207., 3802., 4397.,\n",
       "        4705.]),\n",
       " array([ 0. ,  1.8,  3.6,  5.4,  7.2,  9. , 10.8, 12.6, 14.4, 16.2, 18. ]),\n",
       " <BarContainer object of 10 artists>)"
      ]
     },
     "execution_count": 22,
     "metadata": {},
     "output_type": "execute_result"
    },
    {
     "data": {
      "image/png": "[encoded data removed]",
      "text/plain": [
       "<Figure size 432x288 with 1 Axes>"
      ]
     },
     "metadata": {
      "needs_background": "light"
     },
     "output_type": "display_data"
    }
   ],
   "source": [
    "plt.hist(years)"
   ]
  },
  {
   "cell_type": "code",
   "execution_count": 34,
   "id": "eddcc9e9-77bd-4d34-8d6c-4f064c6bce19",
   "metadata": {},
   "outputs": [
    {
     "data": {
      "text/plain": [
       "<BarContainer object of 8938 artists>"
      ]
     },
     "execution_count": 34,
     "metadata": {},
     "output_type": "execute_result"
    },
    {
     "data": {
      "image/png": "[encoded data removed]",
      "text/plain": [
       "<Figure size 432x288 with 1 Axes>"
      ]
     },
     "metadata": {
      "needs_background": "light"
     },
     "output_type": "display_data"
    }
   ],
   "source": [
    "#Iterate through and list the authors and years\n",
    "authors = []\n",
    "years = []\n",
    "for item in data:\n",
    "    item_authors = item['authors']\n",
    "    item_year = item['year']\n",
    "    for author in item_authors:\n",
    "        #print(author)\n",
    "        if int(author) < 100:\n",
    "            #print(author)\n",
    "            authors.append(author)\n",
    "            years.append(item_year)\n",
    "\n",
    "#Subsequently combine and plot.\n",
    "#print(author)\n",
    "plt.bar(authors, years)"
   ]
  },
  {
   "cell_type": "code",
   "execution_count": 36,
   "id": "d1675f88-7bbd-431f-952e-c3f60aabb7ca",
   "metadata": {},
   "outputs": [
    {
     "data": {
      "text/plain": [
       "{'authors': [42, 13720, 36],\n",
       " 'year': 9,\n",
       " 'abstract': [2455,\n",
       "  1858,\n",
       "  2335,\n",
       "  1543,\n",
       "  1800,\n",
       "  1860,\n",
       "  2000,\n",
       "  2867,\n",
       "  1546,\n",
       "  1874,\n",
       "  2059,\n",
       "  1525,\n",
       "  2590,\n",
       "  4196,\n",
       "  12,\n",
       "  2634,\n",
       "  1543,\n",
       "  1800,\n",
       "  1586,\n",
       "  2866,\n",
       "  3595,\n",
       "  1866,\n",
       "  1670,\n",
       "  2000,\n",
       "  3743,\n",
       "  1542,\n",
       "  1650,\n",
       "  1527,\n",
       "  33,\n",
       "  4407,\n",
       "  1543,\n",
       "  1535,\n",
       "  1962,\n",
       "  1961,\n",
       "  1543,\n",
       "  33,\n",
       "  1700,\n",
       "  1543,\n",
       "  1535,\n",
       "  1647,\n",
       "  1546,\n",
       "  1580,\n",
       "  4720,\n",
       "  12,\n",
       "  1731,\n",
       "  4231,\n",
       "  2601,\n",
       "  1553,\n",
       "  1704,\n",
       "  1605,\n",
       "  2456,\n",
       "  1543,\n",
       "  3281,\n",
       "  1594,\n",
       "  4407,\n",
       "  2168,\n",
       "  1542,\n",
       "  1586,\n",
       "  3781,\n",
       "  2471,\n",
       "  1525,\n",
       "  1859,\n",
       "  1669,\n",
       "  2512,\n",
       "  4572,\n",
       "  1546,\n",
       "  1609,\n",
       "  3781,\n",
       "  2471,\n",
       "  1525,\n",
       "  3393,\n",
       "  12,\n",
       "  37,\n",
       "  1712,\n",
       "  1586,\n",
       "  4196,\n",
       "  1650,\n",
       "  1527,\n",
       "  3281,\n",
       "  1594,\n",
       "  4407,\n",
       "  1800,\n",
       "  4708,\n",
       "  1904,\n",
       "  2059,\n",
       "  2411,\n",
       "  12],\n",
       " 'venue': 20,\n",
       " 'title': [41,\n",
       "  1550,\n",
       "  1563,\n",
       "  1594,\n",
       "  1544,\n",
       "  1919,\n",
       "  1644,\n",
       "  37,\n",
       "  1539,\n",
       "  1715,\n",
       "  1553,\n",
       "  1541,\n",
       "  1536,\n",
       "  1532,\n",
       "  1872,\n",
       "  1538]}"
      ]
     },
     "execution_count": 36,
     "metadata": {},
     "output_type": "execute_result"
    }
   ],
   "source": [
    "data[0] "
   ]
  },
  {
   "cell_type": "code",
   "execution_count": 39,
   "id": "4e729463-b0b6-41f0-b59e-6fb8f4d7eeaf",
   "metadata": {},
   "outputs": [
    {
     "name": "stdout",
     "output_type": "stream",
     "text": [
      "87\n"
     ]
    },
    {
     "data": {
      "text/plain": [
       "57"
      ]
     },
     "execution_count": 39,
     "metadata": {},
     "output_type": "execute_result"
    }
   ],
   "source": [
    "#Apply sedata[0] \n",
    "print(len(data[0]['abstract']))\n",
    "len(set(data[0]['abstract']))"
   ]
  },
  {
   "cell_type": "code",
   "execution_count": 40,
   "id": "de2a48b8-5e1a-48d2-9db8-7197d1aa0983",
   "metadata": {},
   "outputs": [
    {
     "data": {
      "text/plain": [
       "1.5263157894736843"
      ]
     },
     "execution_count": 40,
     "metadata": {},
     "output_type": "execute_result"
    }
   ],
   "source": [
    "87/57"
   ]
  },
  {
   "cell_type": "code",
   "execution_count": 41,
   "id": "603c63d7-8da2-48e6-bf83-ffc7eeadd87d",
   "metadata": {},
   "outputs": [
    {
     "name": "stdout",
     "output_type": "stream",
     "text": [
      "16\n"
     ]
    },
    {
     "data": {
      "text/plain": [
       "16"
      ]
     },
     "execution_count": 41,
     "metadata": {},
     "output_type": "execute_result"
    }
   ],
   "source": [
    "#Apply sedata[0] \n",
    "print(len(data[0]['title']))\n",
    "len(set(data[0]['title']))"
   ]
  },
  {
   "cell_type": "code",
   "execution_count": null,
   "id": "8e83a3aa-832c-4c86-87da-4d699b73c597",
   "metadata": {},
   "outputs": [],
   "source": [
    "\n",
    "def calculate_statistics(lst, k=0):\n",
    "    #See if k is non-zero. If so we run feature selection.\n",
    "    frequencies = dd(int)\n",
    "    if k > 0:\n",
    "        #Select the k most repeated numbers.\n",
    "        #If this is less than k sort the remaining.\n",
    "        for item in lst:\n",
    "            dd[str(item)] += 1\n",
    "        #Then sort the list.\n",
    "        \n",
    "    "
   ]
  }
 ],
 "metadata": {
  "kernelspec": {
   "display_name": "Python 3 (ipykernel)",
   "language": "python",
   "name": "python3"
  },
  "language_info": {
   "codemirror_mode": {
    "name": "ipython",
    "version": 3
   },
   "file_extension": ".py",
   "mimetype": "text/x-python",
   "name": "python",
   "nbconvert_exporter": "python",
   "pygments_lexer": "ipython3",
   "version": "3.8.12"
  }
 },
 "nbformat": 4,
 "nbformat_minor": 5
}
