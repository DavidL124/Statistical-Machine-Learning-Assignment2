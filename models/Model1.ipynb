{
 "cells": [
  {
   "cell_type": "markdown",
   "id": "34631de7",
   "metadata": {},
   "source": [
    "This first model buidls classifiers for each of the prolific authors with `id` equal to `0,...,99` by using a 'vectorised' representation of the text. \n",
    "\n",
    "The idea behind this model is to capture the vocabularly of each author, and the resulting high dimensional feature space should result in near-linear separability. "
   ]
  },
  {
   "cell_type": "code",
   "execution_count": 1,
   "id": "2cc50a9e",
   "metadata": {},
   "outputs": [],
   "source": [
    "import json\n",
    "import csv\n",
    "import os\n",
    "import numpy as np\n",
    "import pandas as pd\n",
    "from tqdm import tqdm\n",
    "from scipy.sparse import csr_matrix\n",
    "from sklearn.metrics import accuracy_score, f1_score\n",
    "from sklearn.linear_model import LogisticRegression\n",
    "from typing import List"
   ]
  },
  {
   "cell_type": "code",
   "execution_count": 2,
   "id": "b604e692",
   "metadata": {},
   "outputs": [],
   "source": [
    "def load_data_set(path: str):\n",
    "    \"\"\"\n",
    "    loads data set located at path and returns as pandas data frame\n",
    "    \"\"\"\n",
    "    with open(path) as file:\n",
    "        data = json.load(file)\n",
    "    \n",
    "    print(f\"loaded {len(data)} instances\")\n",
    "    data = pd.json_normalize(data)\n",
    "    return data"
   ]
  },
  {
   "cell_type": "code",
   "execution_count": 3,
   "id": "23688c1d",
   "metadata": {},
   "outputs": [],
   "source": [
    "# preprocessing\n",
    "\n",
    "def pre_processing(df: pd.DataFrame, train=True):\n",
    "    \"\"\"\n",
    "    performs initial preprocessing to base data frame\n",
    "    \"\"\"\n",
    "    if train:\n",
    "        # preprocessing for authors\n",
    "        df[\"target authors\"] = df[\"authors\"].apply(lambda x: filter_authors(x))\n",
    "        df[\"coauthors\"]      = df[\"authors\"].apply(lambda x: filter_authors(x, prolifics=False))\n",
    "        df = df.drop([\"authors\"], axis=1)\n",
    "    \n",
    "    # preprocessing for text\n",
    "    df[\"abstract\"] = df[\"abstract\"].apply(lambda x: text_to_vector(x))\n",
    "    df[\"title\"]    = df[\"title\"].apply(lambda x: text_to_vector(x))\n",
    "    df[\"text\"]     = df[\"title\"] + df[\"abstract\"]\n",
    "    \n",
    "    # dropping irrelivent columns\n",
    "    df = df.drop([\"abstract\", \"title\"], axis=1)\n",
    "    return df\n",
    "\n"
   ]
  },
  {
   "cell_type": "code",
   "execution_count": 4,
   "id": "ad6e280a",
   "metadata": {},
   "outputs": [],
   "source": [
    "# Feature transformations\n",
    "\n",
    "def filter_authors(authors: List[int], prolifics=True):\n",
    "    if prolifics:\n",
    "        prolifics = filter(lambda x: x < 100, authors)\n",
    "        return list(prolifics)\n",
    "    else:\n",
    "        coauthors = filter(lambda x: x>=100, authors)\n",
    "        return list(coauthors)\n",
    "    \n",
    "    \n",
    "def text_to_vector(text: List[int]):\n",
    "    \"\"\"\n",
    "    Converts text to sparse matrix representation\n",
    "    text: List of integers between 1, 4999\n",
    "    \"\"\"\n",
    "    word_vec = np.zeros(5000, dtype=int)\n",
    "    for word in text:\n",
    "        word_vec[word] += 1\n",
    "    return word_vec"
   ]
  },
  {
   "cell_type": "code",
   "execution_count": 5,
   "id": "b1b03eb5",
   "metadata": {},
   "outputs": [],
   "source": [
    "# training\n",
    "\n",
    "def train_classifier(author: int, df: pd.DataFrame, debug=False):\n",
    "    \"\"\"\n",
    "    Trains a classifier for author i. Assumes text-vectorisaiton has occured.\n",
    "    \n",
    "    Model Features:\n",
    "    text vectorisation\n",
    "    \"\"\"\n",
    "    # create copy and set up label\n",
    "    df = df.copy(deep=True)\n",
    "    df[\"label\"] = df[\"target authors\"].apply(lambda x: 1 if author in x else 0)\n",
    "    \n",
    "    # split up positive and negative instances so as to ensure a balanced training set \n",
    "    # if we don't do this, we end up with a very imbalanced training set \n",
    "    # however, if we don't include enough negative samples, we tend to \"overclassify\". \n",
    "    # we can tune out performance with the below 'neg sample factor'\n",
    "    \n",
    "    neg_sample_factor = 10\n",
    "    \n",
    "    pos = df[df['label'] == 1] \n",
    "    neg = df[df['label'] == 0]\n",
    "    \n",
    "    n_pos_samples = pos.shape[0]\n",
    "    n_tot_samples = df.shape[0]\n",
    "    \n",
    "    # takes a sample of the negative instances to train on\n",
    "    neg = neg.sample(frac=neg_sample_factor*(n_pos_samples/n_tot_samples)) \n",
    "    \n",
    "    if debug:\n",
    "        print(f\"training on {pos.shape[0]} postitive instances\")\n",
    "        print(f\"training on {neg.shape[0]} negative  instances\")\n",
    "    \n",
    "    df = pd.concat([pos, neg])\n",
    "    X_train = pd.DataFrame(df.text.tolist(), index= df.index)\n",
    "    y_train = df[\"label\"]\n",
    "    \n",
    "    if debug:\n",
    "        print(f\"training on {X_train.shape[0]} instances\")\n",
    "    \n",
    "    clf = LogisticRegression(max_iter=1000)\n",
    "    clf.fit(X_train, y_train)\n",
    "    \n",
    "    if debug:\n",
    "        y_train_pred = clf.predict(X_train) \n",
    "        acc = accuracy_score(y_train, y_train_pred) \n",
    "        f1  = f1_score(y_train, y_train_pred)\n",
    "        print(f\"Accuracy: {acc}\")\n",
    "        print(f\"f1 score: {f1}\")\n",
    "\n",
    "    return clf"
   ]
  },
  {
   "cell_type": "markdown",
   "id": "1dc980c5",
   "metadata": {},
   "source": [
    "**Training**"
   ]
  },
  {
   "cell_type": "code",
   "execution_count": 6,
   "id": "b3f0a319",
   "metadata": {},
   "outputs": [
    {
     "name": "stdout",
     "output_type": "stream",
     "text": [
      "loaded 25793 instances\n"
     ]
    }
   ],
   "source": [
    "path = \"../data/train.json\"\n",
    "df = load_data_set(path)\n",
    "df = pre_processing(df)"
   ]
  },
  {
   "cell_type": "code",
   "execution_count": 7,
   "id": "98046034",
   "metadata": {},
   "outputs": [],
   "source": [
    "author = 42\n",
    "model  = train_classifier(author, df)"
   ]
  },
  {
   "cell_type": "code",
   "execution_count": 8,
   "id": "2b1d3c8c",
   "metadata": {},
   "outputs": [
    {
     "name": "stderr",
     "output_type": "stream",
     "text": [
      "100%|██████████| 100/100 [27:58<00:00, 16.79s/it]  \n"
     ]
    }
   ],
   "source": [
    "authors = np.arange(0, 100)\n",
    "models  = []\n",
    "for i in tqdm(authors):\n",
    "    model = train_classifier(i, df)\n",
    "    models.append(model)"
   ]
  },
  {
   "cell_type": "markdown",
   "id": "497d8381",
   "metadata": {},
   "source": [
    "**Model Validation**"
   ]
  },
  {
   "cell_type": "code",
   "execution_count": 9,
   "id": "610fce5e",
   "metadata": {},
   "outputs": [],
   "source": [
    "def validate_model(author: int, df: pd.DataFrame, classifier):\n",
    "    # simple function to assess model performance\n",
    "    \n",
    "    # create copy and set up label\n",
    "    df = df.copy(deep=True)\n",
    "    df[\"label\"] = df[\"target authors\"].apply(lambda x: 1 if author in x else 0)\n",
    "    \n",
    "    # split up positive and negative instances so as to ensure a balanced training set \n",
    "    # if we don't do this, we end up with a very imbalanced training set \n",
    "    pos = df[df['label'] == 1] \n",
    "    neg = df[df['label'] == 0]\n",
    "    \n",
    "    # takes a sample of the instances to test on\n",
    "    pos = pos.sample(frac=(1/2))\n",
    "    neg = neg.sample(frac=(1/10))\n",
    "    \n",
    "    # recombine \n",
    "    df = pd.concat([pos, neg])\n",
    "    X_test = pd.DataFrame(df.text.tolist(), index= df.index)\n",
    "    y_test = df[\"label\"]\n",
    "    \n",
    "    # perform predictions \n",
    "    y_pred = classifier.predict(X_test)\n",
    "    \n",
    "    acc = accuracy_score(y_pred, y_test) \n",
    "    f1  = f1_score(y_pred, y_test) \n",
    "    print(f\"Accuracy: {acc}\")\n",
    "    print(f\"f1 score: {f1}\")\n",
    "    return"
   ]
  },
  {
   "cell_type": "code",
   "execution_count": null,
   "id": "09e87894",
   "metadata": {},
   "outputs": [],
   "source": []
  },
  {
   "cell_type": "markdown",
   "id": "cefd6826",
   "metadata": {},
   "source": [
    "**Build Predictions**"
   ]
  },
  {
   "cell_type": "code",
   "execution_count": 10,
   "id": "8206dd9a",
   "metadata": {},
   "outputs": [
    {
     "name": "stdout",
     "output_type": "stream",
     "text": [
      "loaded 800 instances\n"
     ]
    }
   ],
   "source": [
    "path = \"../data/test.json\"\n",
    "df_test = load_data_set(path)\n",
    "df_test = pre_processing(df_test, train=False)"
   ]
  },
  {
   "cell_type": "code",
   "execution_count": 22,
   "id": "a4896853",
   "metadata": {},
   "outputs": [],
   "source": [
    "def make_predictions(test_df: pd.DataFrame):\n",
    "    \"\"\"\n",
    "    function for writing predictions to output file. \n",
    "    WARNING: Deletes predictions.csv if present in working directory\n",
    "    \"\"\"\n",
    "    if os.path.exists(\"predictions.csv\"):\n",
    "        os.remove(\"predictions.csv\")\n",
    "        print(\"removed previous predictions\")\n",
    "    \n",
    "    \n",
    "    with open(\"predictions.csv\", mode='w') as f:    \n",
    "        writer = csv.writer(f)\n",
    "        \n",
    "        header = ['Id','Predicted']\n",
    "        writer.writerow(header)\n",
    "        \n",
    "        \n",
    "        X_test = pd.DataFrame(test_df.text.tolist(), index=test_df.index)\n",
    "        n      = X_test.shape[0]\n",
    "        \n",
    "        # loop over each training sample and write to necessary format\n",
    "        for Id in tqdm(range(n)):\n",
    "            x   = np.array(X_test.iloc[Id]).reshape(1, -1)\n",
    "            row = [Id]\n",
    "            authors = []\n",
    "            for author, model in enumerate(models):\n",
    "                if np.array(model.predict(x)).item() == 1:\n",
    "                    authors.append(author)\n",
    "\n",
    "            # to match the output requirement \n",
    "            if len(authors) == 0: row.append(-1)\n",
    "            else: row += authors\n",
    "            \n",
    "            writer.writerow(row)\n",
    "    return"
   ]
  },
  {
   "cell_type": "code",
   "execution_count": 23,
   "id": "e9c7e5c4",
   "metadata": {},
   "outputs": [
    {
     "name": "stdout",
     "output_type": "stream",
     "text": [
      "removed previous predictions\n"
     ]
    },
    {
     "name": "stderr",
     "output_type": "stream",
     "text": [
      "100%|██████████| 800/800 [00:02<00:00, 279.45it/s]\n"
     ]
    }
   ],
   "source": [
    "make_predictions(df_test)"
   ]
  }
 ],
 "metadata": {
  "kernelspec": {
   "display_name": "Python 3",
   "language": "python",
   "name": "python3"
  },
  "language_info": {
   "codemirror_mode": {
    "name": "ipython",
    "version": 3
   },
   "file_extension": ".py",
   "mimetype": "text/x-python",
   "name": "python",
   "nbconvert_exporter": "python",
   "pygments_lexer": "ipython3",
   "version": "3.8.8"
  }
 },
 "nbformat": 4,
 "nbformat_minor": 5
}
