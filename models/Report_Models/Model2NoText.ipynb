{
 "cells": [
  {
   "cell_type": "markdown",
   "metadata": {},
   "source": [
    "The first model builds classifiers for each of the prolific authors with `id` equal to `0,...,99` by using a 'vectorised' representation of the text. \n",
    "\n",
    "This second model builds the feature space further, by using venue as a secondary feature. \n",
    "\n",
    "We also formalise a training / validation split between our data sets.\n",
    "\n",
    "The idea behind this model is to capture the vocabularly of each author, and the resulting high dimensional feature space should result in near-linear separability. "
   ]
  },
  {
   "cell_type": "code",
   "execution_count": 1,
   "metadata": {},
   "outputs": [],
   "source": [
    "import json\n",
    "import csv\n",
    "import os\n",
    "import numpy as np\n",
    "import pandas as pd\n",
    "from tqdm import tqdm\n",
    "from scipy.sparse import csr_matrix\n",
    "from sklearn.metrics import accuracy_score, f1_score, precision_score, recall_score\n",
    "from sklearn.model_selection import train_test_split\n",
    "from sklearn.preprocessing import MinMaxScaler\n",
    "from sklearn.utils import resample\n",
    "from imblearn.over_sampling import SMOTE\n",
    "from sklearn.linear_model import LogisticRegression\n",
    "from typing import List\n",
    "\n",
    "RANDOM_STATE = 69"
   ]
  },
  {
   "cell_type": "code",
   "execution_count": 2,
   "metadata": {},
   "outputs": [],
   "source": [
    "def load_data_set(path: str):\n",
    "    \"\"\"\n",
    "    loads data set located at path and returns as pandas data frame\n",
    "    \"\"\"\n",
    "    with open(path) as file:\n",
    "        data = json.load(file)\n",
    "    \n",
    "    print(f\"loaded {len(data)} instances\")\n",
    "    data = pd.json_normalize(data)\n",
    "    return data"
   ]
  },
  {
   "cell_type": "code",
   "execution_count": 3,
   "metadata": {},
   "outputs": [],
   "source": [
    "# preprocessing\n",
    "\n",
    "def pre_processing(df: pd.DataFrame, train=True):\n",
    "    \"\"\"\n",
    "    performs initial preprocessing to base data frame\n",
    "    drop_blanks: drop instances with no target authors. reduces training set by ~60%\n",
    "    \"\"\"\n",
    "    # preprocessing for authors\n",
    "    if train:\n",
    "        df[\"target authors\"] = df[\"authors\"].apply(lambda x: filter_authors(x))\n",
    "        df[\"coauthors_lst\"]      = df[\"authors\"].apply(lambda x: filter_authors(x, prolifics=False))\n",
    "        df[\"has target\"]     = df[\"target authors\"].apply(lambda x: len(x)>0)\n",
    "        df = df[df[\"has target\"] == True]\n",
    "        df = df.drop([\"authors\", \"has target\"], axis=1)\n",
    "    \n",
    "    elif train == False:\n",
    "        df[\"coauthors_lst\"]  = df[\"coauthors\"].apply(lambda x: filter_authors(x, prolifics=False))\n",
    "        df = df.drop([\"coauthors\"], axis=1)\n",
    "    \n",
    "    # preprocessing for text - replace the text with the word count. \n",
    "    df[\"text\"]     = df[\"title\"].apply(lambda x: len(x)) + df[\"abstract\"].apply(lambda x: len(x))\n",
    "    #text_df = pd.DataFrame(df.text.tolist(), index=df.index, columns=[str(i) for i in range(5000)])\n",
    "    \n",
    "    # preprocessing for venue. We use minmax scaling as a matter of best-practice. \n",
    "    # as we require all rows to have integer values, we give blank venues a dummy value of 465\n",
    "    scalar = MinMaxScaler()\n",
    "    df.loc[df.venue == \"\", \"venue\"] = 465\n",
    "    df[\"venue\"] = scalar.fit_transform(df[\"venue\"].to_numpy().reshape(-1, 1))\n",
    "    \n",
    "    # prepocessing for coauthors\n",
    "    # we use a discretised binning strategy, with n=10 bins by default. \n",
    "    df[\"coauthors\"] = df[\"coauthors_lst\"].apply(lambda x: len(x))\n",
    "\n",
    "    #coauth_df = pd.DataFrame(df.coauthors.tolist(), index=df.index, columns=[\"bin \"+str(i) for i in range(10)])\n",
    "    \n",
    "    # dropping irrelivent columns & concat with 5000-column text_df\n",
    "    df = df.drop([\"abstract\", \"title\", \"coauthors_lst\"], axis=1)\n",
    "    \n",
    "    # and drop row identifier if test set\n",
    "    if not train:\n",
    "        df = df.drop([\"identifier\"], axis=1)\n",
    "\n",
    "    return df"
   ]
  },
  {
   "cell_type": "code",
   "execution_count": 4,
   "metadata": {},
   "outputs": [],
   "source": [
    "# Feature transformations\n",
    "\n",
    "def filter_authors(authors: List[int], prolifics=True):\n",
    "    \"\"\"\n",
    "    filters authors between prolific and coauthors\n",
    "    \"\"\"\n",
    "    if prolifics:\n",
    "        prolifics = filter(lambda x: x < 100, authors)\n",
    "        return list(prolifics)\n",
    "    else:\n",
    "        coauthors = filter(lambda x: x>=100, authors)\n",
    "        return list(coauthors)"
   ]
  },
  {
   "cell_type": "code",
   "execution_count": 5,
   "metadata": {},
   "outputs": [
    {
     "name": "stdout",
     "output_type": "stream",
     "text": [
      "loaded 25793 instances\n"
     ]
    },
    {
     "data": {
      "text/html": "<div>\n<style scoped>\n    .dataframe tbody tr th:only-of-type {\n        vertical-align: middle;\n    }\n\n    .dataframe tbody tr th {\n        vertical-align: top;\n    }\n\n    .dataframe thead th {\n        text-align: right;\n    }\n</style>\n<table border=\"1\" class=\"dataframe\">\n  <thead>\n    <tr style=\"text-align: right;\">\n      <th></th>\n      <th>year</th>\n      <th>venue</th>\n      <th>target authors</th>\n      <th>text</th>\n      <th>coauthors</th>\n    </tr>\n  </thead>\n  <tbody>\n    <tr>\n      <th>0</th>\n      <td>9</td>\n      <td>0.043011</td>\n      <td>[42, 36]</td>\n      <td>103</td>\n      <td>1</td>\n    </tr>\n    <tr>\n      <th>1</th>\n      <td>15</td>\n      <td>0.004301</td>\n      <td>[45]</td>\n      <td>123</td>\n      <td>2</td>\n    </tr>\n    <tr>\n      <th>3</th>\n      <td>10</td>\n      <td>0.008602</td>\n      <td>[97]</td>\n      <td>119</td>\n      <td>0</td>\n    </tr>\n    <tr>\n      <th>4</th>\n      <td>10</td>\n      <td>0.019355</td>\n      <td>[2]</td>\n      <td>148</td>\n      <td>1</td>\n    </tr>\n    <tr>\n      <th>9</th>\n      <td>18</td>\n      <td>0.000000</td>\n      <td>[44, 2]</td>\n      <td>145</td>\n      <td>2</td>\n    </tr>\n  </tbody>\n</table>\n</div>",
      "text/plain": "   year     venue target authors  text  coauthors\n0     9  0.043011       [42, 36]   103          1\n1    15  0.004301           [45]   123          2\n3    10  0.008602           [97]   119          0\n4    10  0.019355            [2]   148          1\n9    18  0.000000        [44, 2]   145          2"
     },
     "execution_count": 5,
     "metadata": {},
     "output_type": "execute_result"
    }
   ],
   "source": [
    "path = \"train.json\"\n",
    "df = load_data_set(path)\n",
    "df = pre_processing(df)\n",
    "df.head()"
   ]
  },
  {
   "cell_type": "code",
   "execution_count": 6,
   "metadata": {},
   "outputs": [
    {
     "data": {
      "text/html": "<div>\n<style scoped>\n    .dataframe tbody tr th:only-of-type {\n        vertical-align: middle;\n    }\n\n    .dataframe tbody tr th {\n        vertical-align: top;\n    }\n\n    .dataframe thead th {\n        text-align: right;\n    }\n</style>\n<table border=\"1\" class=\"dataframe\">\n  <thead>\n    <tr style=\"text-align: right;\">\n      <th></th>\n      <th>year</th>\n      <th>venue</th>\n      <th>target authors</th>\n      <th>text</th>\n      <th>coauthors</th>\n    </tr>\n  </thead>\n  <tbody>\n    <tr>\n      <th>0</th>\n      <td>9</td>\n      <td>0.043011</td>\n      <td>[42, 36]</td>\n      <td>103</td>\n      <td>1</td>\n    </tr>\n    <tr>\n      <th>1</th>\n      <td>15</td>\n      <td>0.004301</td>\n      <td>[45]</td>\n      <td>123</td>\n      <td>2</td>\n    </tr>\n    <tr>\n      <th>3</th>\n      <td>10</td>\n      <td>0.008602</td>\n      <td>[97]</td>\n      <td>119</td>\n      <td>0</td>\n    </tr>\n    <tr>\n      <th>4</th>\n      <td>10</td>\n      <td>0.019355</td>\n      <td>[2]</td>\n      <td>148</td>\n      <td>1</td>\n    </tr>\n    <tr>\n      <th>9</th>\n      <td>18</td>\n      <td>0.000000</td>\n      <td>[44, 2]</td>\n      <td>145</td>\n      <td>2</td>\n    </tr>\n  </tbody>\n</table>\n</div>",
      "text/plain": "   year     venue target authors  text  coauthors\n0     9  0.043011       [42, 36]   103          1\n1    15  0.004301           [45]   123          2\n3    10  0.008602           [97]   119          0\n4    10  0.019355            [2]   148          1\n9    18  0.000000        [44, 2]   145          2"
     },
     "execution_count": 6,
     "metadata": {},
     "output_type": "execute_result"
    }
   ],
   "source": [
    "df.head()"
   ]
  },
  {
   "cell_type": "markdown",
   "metadata": {},
   "source": [
    "**Model Validation**"
   ]
  },
  {
   "cell_type": "code",
   "execution_count": 7,
   "metadata": {},
   "outputs": [],
   "source": [
    "# resampling techiques to address label imbalance\n",
    "\n",
    "def upsample_training(X_train, y_train):\n",
    "    \"\"\"\n",
    "    upsamples the minority class until class balance is achieved\n",
    "    \"\"\"\n",
    "    X = pd.concat([X_train, y_train], axis=1)\n",
    "    \n",
    "    \n",
    "    pos = X[X[\"label\"] == 1]\n",
    "    neg = X[X[\"label\"] == 0]\n",
    "    \n",
    "    pos_upsample = resample(pos, replace=True, n_samples=len(neg), random_state=RANDOM_STATE)\n",
    "    \n",
    "    resampled = pd.concat([neg, pos_upsample])\n",
    "\n",
    "    y_train = resampled[\"label\"]\n",
    "    X_train = resampled.drop([\"label\"], axis=1)\n",
    "    return X_train, y_train\n",
    "\n",
    "\n",
    "def downsample_training(X_train, y_train):\n",
    "    \"\"\"\n",
    "    downasamples majority class until class balance is achieved \n",
    "    \"\"\"\n",
    "    X = pd.concat([X_train, y_train], axis=1)\n",
    "    \n",
    "    \n",
    "    pos = X[X[\"label\"] == 1]\n",
    "    neg = X[X[\"label\"] == 0]\n",
    "    \n",
    "    neg_downsample = resample(neg, replace=True, n_samples=len(pos), random_state=RANDOM_STATE)\n",
    "    \n",
    "    resampled = pd.concat([pos, neg_downsample])\n",
    "\n",
    "    y_train = resampled[\"label\"]\n",
    "    X_train = resampled.drop([\"label\"], axis=1)\n",
    "    return X_train, y_train\n",
    "\n",
    "\n",
    "def resample_training(X_train, y_train):\n",
    "    \"\"\"\n",
    "    resamples class imbalance using SMOTE: \n",
    "    https://imbalanced-learn.org/stable/references/generated/imblearn.over_sampling.SMOTE.html\n",
    "    \"\"\"\n",
    "    sm = SMOTE(random_state=RANDOM_STATE)\n",
    "    X_train, y_train = sm.fit_resample(X_train, y_train)\n",
    "    return X_train, y_train\n",
    "    \n",
    "    "
   ]
  },
  {
   "cell_type": "code",
   "execution_count": 8,
   "metadata": {},
   "outputs": [],
   "source": [
    "def build_evaluate_classifier(author: int, df:pd.DataFrame):\n",
    "    \n",
    "    \n",
    "    # take copy and prepare label\n",
    "    df = df.copy(deep=True)\n",
    "    df[\"label\"] = df[\"target authors\"].apply(lambda x: 1 if author in x else 0)\n",
    "    X = df.drop([\"label\", \"target authors\"], axis=1)\n",
    "    y = df[\"label\"]\n",
    "    # split training and validation - we have fixed random state for reproducability\n",
    "    X_train, X_val, y_train, y_val = train_test_split(X, y, test_size=0.3, random_state=RANDOM_STATE)\n",
    "    \n",
    "    # upsample to deal with class imbalance\n",
    "    X_train, y_train = resample_training(X_train, y_train)\n",
    "    \n",
    "    # fit to model\n",
    "    clf = LogisticRegression()\n",
    "    clf.fit(X_train, y_train)\n",
    "    \n",
    "    # validatite model\n",
    "    y_pred = clf.predict(X_val)\n",
    "    f1 = f1_score(y_pred, y_val)\n",
    "    precision = precision_score(y_pred, y_val)\n",
    "    recall = recall_score(y_pred, y_val)\n",
    "    return f1, precision, recall"
   ]
  },
  {
   "cell_type": "code",
   "execution_count": 9,
   "metadata": {},
   "outputs": [],
   "source": [
    "def validate_to_csv(df: pd.DataFrame):\n",
    "    \"\"\"\n",
    "    As we are building 100 classifiers, printing f1 scores within a notebook is impractical. \n",
    "    following function writes results to csv. \n",
    "    \"\"\"\n",
    "    \n",
    "    with open(\"Model2NoText.csv\", mode='w') as f:    \n",
    "        writer = csv.writer(f)\n",
    "        \n",
    "        header = ['Author Id','F1 score', 'Precision', 'Recall']\n",
    "        writer.writerow(header)\n",
    "        \n",
    "        # loop over each author, build classifier and write to output\n",
    "        authors = np.arange(100)\n",
    "        avg_f1, avg_recall, avg_precision = 0, 0, 0\n",
    "        \n",
    "        for author in tqdm(authors):\n",
    "            f1, precision, recall = build_evaluate_classifier(author, df)\n",
    "            writer.writerow([author, f1])\n",
    "            avg_f1 += f1\n",
    "            avg_precision += precision\n",
    "            avg_recall += recall \n",
    "        \n",
    "        writer.writerow([\"average\", avg_f1/100])\n",
    "            \n",
    "    print(f\"average f1:        {avg_f1/100}\")\n",
    "    print(f\"average recall:    {avg_recall/100}\")\n",
    "    print(f\"average precision: {avg_precision/100}\")\n",
    "    return"
   ]
  },
  {
   "cell_type": "code",
   "execution_count": 10,
   "metadata": {},
   "outputs": [
    {
     "name": "stderr",
     "output_type": "stream",
     "text": [
      "100%|██████████| 100/100 [00:04<00:00, 22.73it/s]"
     ]
    },
    {
     "name": "stdout",
     "output_type": "stream",
     "text": [
      "average f1:        0.03627721551660119\n",
      "average recall:    0.01882055524054555\n",
      "average precision: 0.5967826391204196\n"
     ]
    },
    {
     "name": "stderr",
     "output_type": "stream",
     "text": [
      "\n"
     ]
    }
   ],
   "source": [
    "# perform model validation checking\n",
    "validate_to_csv(df)"
   ]
  },
  {
   "cell_type": "code",
   "execution_count": 11,
   "metadata": {},
   "outputs": [
    {
     "data": {
      "text/html": "<div>\n<style scoped>\n    .dataframe tbody tr th:only-of-type {\n        vertical-align: middle;\n    }\n\n    .dataframe tbody tr th {\n        vertical-align: top;\n    }\n\n    .dataframe thead th {\n        text-align: right;\n    }\n</style>\n<table border=\"1\" class=\"dataframe\">\n  <thead>\n    <tr style=\"text-align: right;\">\n      <th></th>\n      <th>year</th>\n      <th>venue</th>\n      <th>target authors</th>\n      <th>text</th>\n      <th>coauthors</th>\n    </tr>\n  </thead>\n  <tbody>\n    <tr>\n      <th>0</th>\n      <td>9</td>\n      <td>0.043011</td>\n      <td>[42, 36]</td>\n      <td>103</td>\n      <td>1</td>\n    </tr>\n    <tr>\n      <th>1</th>\n      <td>15</td>\n      <td>0.004301</td>\n      <td>[45]</td>\n      <td>123</td>\n      <td>2</td>\n    </tr>\n    <tr>\n      <th>3</th>\n      <td>10</td>\n      <td>0.008602</td>\n      <td>[97]</td>\n      <td>119</td>\n      <td>0</td>\n    </tr>\n    <tr>\n      <th>4</th>\n      <td>10</td>\n      <td>0.019355</td>\n      <td>[2]</td>\n      <td>148</td>\n      <td>1</td>\n    </tr>\n    <tr>\n      <th>9</th>\n      <td>18</td>\n      <td>0.000000</td>\n      <td>[44, 2]</td>\n      <td>145</td>\n      <td>2</td>\n    </tr>\n  </tbody>\n</table>\n</div>",
      "text/plain": "   year     venue target authors  text  coauthors\n0     9  0.043011       [42, 36]   103          1\n1    15  0.004301           [45]   123          2\n3    10  0.008602           [97]   119          0\n4    10  0.019355            [2]   148          1\n9    18  0.000000        [44, 2]   145          2"
     },
     "execution_count": 11,
     "metadata": {},
     "output_type": "execute_result"
    }
   ],
   "source": [
    "df.head()\n"
   ]
  },
  {
   "cell_type": "code",
   "execution_count": 12,
   "metadata": {},
   "outputs": [
    {
     "data": {
      "text/plain": "year                int64\nvenue             float64\ntarget authors     object\ntext                int64\ncoauthors           int64\ndtype: object"
     },
     "execution_count": 12,
     "metadata": {},
     "output_type": "execute_result"
    }
   ],
   "source": [
    "df.dtypes"
   ]
  },
  {
   "cell_type": "markdown",
   "metadata": {},
   "source": [
    "**Training**"
   ]
  },
  {
   "cell_type": "code",
   "execution_count": 13,
   "metadata": {},
   "outputs": [],
   "source": [
    "# training\n",
    "\n",
    "def train_classifier(author: int, df: pd.DataFrame, debug=False):\n",
    "    \"\"\"\n",
    "    Trains a classifier for author i. Assumes text-vectorisaiton has occured.\n",
    "    \n",
    "    Model Features:\n",
    "    text vectorisation\n",
    "    \"\"\"\n",
    "    df = df.copy(deep=True)\n",
    "    df[\"label\"] = df[\"target authors\"].apply(lambda x: 1 if author in x else 0)\n",
    "    X_train = df.drop([\"label\", \"target authors\"], axis=1)\n",
    "    y_train = df[\"label\"]\n",
    "    \n",
    "    # upsample to deal with class imbalance\n",
    "    X_train, y_train = upsample_training(X_train, y_train)\n",
    "    \n",
    "    # fit to model\n",
    "    clf = LogisticRegression()\n",
    "    clf.fit(X_train, y_train)\n",
    "    \n",
    "\n",
    "    return clf"
   ]
  },
  {
   "cell_type": "code",
   "execution_count": 14,
   "metadata": {},
   "outputs": [
    {
     "data": {
      "text/html": "<div>\n<style scoped>\n    .dataframe tbody tr th:only-of-type {\n        vertical-align: middle;\n    }\n\n    .dataframe tbody tr th {\n        vertical-align: top;\n    }\n\n    .dataframe thead th {\n        text-align: right;\n    }\n</style>\n<table border=\"1\" class=\"dataframe\">\n  <thead>\n    <tr style=\"text-align: right;\">\n      <th></th>\n      <th>year</th>\n      <th>venue</th>\n      <th>target authors</th>\n      <th>text</th>\n      <th>coauthors</th>\n    </tr>\n  </thead>\n  <tbody>\n    <tr>\n      <th>0</th>\n      <td>9</td>\n      <td>0.043011</td>\n      <td>[42, 36]</td>\n      <td>103</td>\n      <td>1</td>\n    </tr>\n    <tr>\n      <th>1</th>\n      <td>15</td>\n      <td>0.004301</td>\n      <td>[45]</td>\n      <td>123</td>\n      <td>2</td>\n    </tr>\n    <tr>\n      <th>3</th>\n      <td>10</td>\n      <td>0.008602</td>\n      <td>[97]</td>\n      <td>119</td>\n      <td>0</td>\n    </tr>\n    <tr>\n      <th>4</th>\n      <td>10</td>\n      <td>0.019355</td>\n      <td>[2]</td>\n      <td>148</td>\n      <td>1</td>\n    </tr>\n    <tr>\n      <th>9</th>\n      <td>18</td>\n      <td>0.000000</td>\n      <td>[44, 2]</td>\n      <td>145</td>\n      <td>2</td>\n    </tr>\n  </tbody>\n</table>\n</div>",
      "text/plain": "   year     venue target authors  text  coauthors\n0     9  0.043011       [42, 36]   103          1\n1    15  0.004301           [45]   123          2\n3    10  0.008602           [97]   119          0\n4    10  0.019355            [2]   148          1\n9    18  0.000000        [44, 2]   145          2"
     },
     "execution_count": 14,
     "metadata": {},
     "output_type": "execute_result"
    }
   ],
   "source": [
    "df.head()"
   ]
  },
  {
   "cell_type": "code",
   "execution_count": 15,
   "metadata": {},
   "outputs": [
    {
     "name": "stderr",
     "output_type": "stream",
     "text": [
      "100%|██████████| 100/100 [00:04<00:00, 21.04it/s]\n"
     ]
    }
   ],
   "source": [
    "# build classifiers for each author\n",
    "authors = np.arange(0, 100)\n",
    "models  = []\n",
    "for i in tqdm(authors):\n",
    "    model = train_classifier(i, df)\n",
    "    models.append(model)"
   ]
  },
  {
   "cell_type": "markdown",
   "metadata": {},
   "source": [
    "**Build Predictions**"
   ]
  },
  {
   "cell_type": "code",
   "execution_count": 16,
   "metadata": {},
   "outputs": [
    {
     "name": "stdout",
     "output_type": "stream",
     "text": [
      "loaded 800 instances\n"
     ]
    }
   ],
   "source": [
    "# load in test data\n",
    "path = \"test.json\"\n",
    "df_test = load_data_set(path)\n",
    "df_test = pre_processing(df_test, train=False)"
   ]
  },
  {
   "cell_type": "code",
   "execution_count": 17,
   "metadata": {},
   "outputs": [
    {
     "data": {
      "text/html": "<div>\n<style scoped>\n    .dataframe tbody tr th:only-of-type {\n        vertical-align: middle;\n    }\n\n    .dataframe tbody tr th {\n        vertical-align: top;\n    }\n\n    .dataframe thead th {\n        text-align: right;\n    }\n</style>\n<table border=\"1\" class=\"dataframe\">\n  <thead>\n    <tr style=\"text-align: right;\">\n      <th></th>\n      <th>year</th>\n      <th>venue</th>\n      <th>text</th>\n      <th>coauthors</th>\n    </tr>\n  </thead>\n  <tbody>\n    <tr>\n      <th>0</th>\n      <td>19</td>\n      <td>0.479570</td>\n      <td>177</td>\n      <td>4</td>\n    </tr>\n    <tr>\n      <th>1</th>\n      <td>19</td>\n      <td>0.479570</td>\n      <td>283</td>\n      <td>2</td>\n    </tr>\n    <tr>\n      <th>2</th>\n      <td>19</td>\n      <td>0.015054</td>\n      <td>246</td>\n      <td>6</td>\n    </tr>\n    <tr>\n      <th>3</th>\n      <td>19</td>\n      <td>0.045161</td>\n      <td>104</td>\n      <td>4</td>\n    </tr>\n    <tr>\n      <th>4</th>\n      <td>19</td>\n      <td>1.000000</td>\n      <td>186</td>\n      <td>23</td>\n    </tr>\n  </tbody>\n</table>\n</div>",
      "text/plain": "   year     venue  text  coauthors\n0    19  0.479570   177          4\n1    19  0.479570   283          2\n2    19  0.015054   246          6\n3    19  0.045161   104          4\n4    19  1.000000   186         23"
     },
     "execution_count": 17,
     "metadata": {},
     "output_type": "execute_result"
    }
   ],
   "source": [
    "df_test.head()"
   ]
  },
  {
   "cell_type": "code",
   "execution_count": 18,
   "metadata": {},
   "outputs": [],
   "source": [
    "def make_predictions(test_df: pd.DataFrame):\n",
    "    \"\"\"\n",
    "    function for writing predictions to output file. \n",
    "    WARNING: Deletes predictions.csv if present in working directory\n",
    "    \"\"\"\n",
    "    if os.path.exists(\"predictionsNoText.csv\"):\n",
    "        os.remove(\"predictionsNoText.csv\")\n",
    "        print(\"removed previous predictions\")\n",
    "    \n",
    "    \n",
    "    with open(\"predictionsNoText.csv\", mode='w') as f:    \n",
    "        writer = csv.writer(f)\n",
    "        \n",
    "        header = ['Id','Predict']\n",
    "        writer.writerow(header)\n",
    "        \n",
    "        \n",
    "        X_test = test_df\n",
    "        n      = X_test.shape[0]\n",
    "        \n",
    "        # loop over each training sample and write to necessary format\n",
    "        for Id in tqdm(range(n)):\n",
    "            x   = test_df.iloc[Id].to_frame().T\n",
    "            authors = \"\"\n",
    "            for author, model in enumerate(models):\n",
    "                if np.array(model.predict(x)).item() == 1:\n",
    "                    authors += str(author) + \" \"\n",
    "\n",
    "            # to match the output requirement \n",
    "            if len(authors) == 0: row = [Id, -1]\n",
    "            else: row = [Id, authors]\n",
    "\n",
    "            writer.writerow(row)\n",
    "    return"
   ]
  },
  {
   "cell_type": "code",
   "execution_count": 19,
   "metadata": {},
   "outputs": [
    {
     "name": "stdout",
     "output_type": "stream",
     "text": [
      "removed previous predictions\n"
     ]
    },
    {
     "name": "stderr",
     "output_type": "stream",
     "text": [
      "100%|██████████| 800/800 [00:53<00:00, 14.84it/s]\n"
     ]
    }
   ],
   "source": [
    "make_predictions(df_test)"
   ]
  }
 ],
 "metadata": {
  "kernelspec": {
   "display_name": "Python 3.8.12 64-bit ('base': conda)",
   "name": "python3812jvsc74a57bd0e245b9d4d52625933425f13c940396e11f2ad0cf135519173d3aca2cac5d4603"
  },
  "language_info": {
   "codemirror_mode": {
    "name": "ipython",
    "version": 3
   },
   "file_extension": ".py",
   "mimetype": "text/x-python",
   "name": "python",
   "nbconvert_exporter": "python",
   "pygments_lexer": "ipython3",
   "version": "3.8.12"
  }
 },
 "nbformat": 4,
 "nbformat_minor": 5
}