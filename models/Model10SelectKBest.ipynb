{
 "cells": [
  {
   "cell_type": "code",
   "execution_count": 1,
   "metadata": {},
   "outputs": [],
   "source": [
    "import json\n",
    "import os\n",
    "import csv\n",
    "import numpy as np\n",
    "import pandas as pd\n",
    "from tqdm import tqdm\n",
    "from sklearn.linear_model import LogisticRegression, SGDClassifier\n",
    "from sklearn.svm import SVC, LinearSVC \n",
    "from sklearn.metrics import accuracy_score, f1_score, precision_score, recall_score, confusion_matrix\n",
    "from sklearn.model_selection import train_test_split\n",
    "from sklearn.preprocessing import MinMaxScaler\n",
    "from sklearn.utils import resample\n",
    "from imblearn.over_sampling import SMOTE\n",
    "from typing import List\n",
    "from sklearn.feature_selection import SelectKBest, chi2\n",
    "from collections import defaultdict as dd\n",
    "\n",
    "NUM_WORDS = 5000\n",
    "NUM_AUTHORS = 21246\n",
    "MAX_LEN = 250\n",
    "RANDOM_STATE = 42069"
   ]
  },
  {
   "cell_type": "code",
   "execution_count": 2,
   "metadata": {},
   "outputs": [],
   "source": [
    "import warnings\n",
    "warnings.simplefilter(action='ignore')"
   ]
  },
  {
   "cell_type": "code",
   "execution_count": 3,
   "metadata": {},
   "outputs": [],
   "source": [
    "def load_data_set(path: str):\n",
    "    \"\"\"\n",
    "    loads data set located at path and returns as pandas data frame\n",
    "    \"\"\"\n",
    "    with open(path) as file:\n",
    "        data = json.load(file)\n",
    "    \n",
    "    print(f\"loaded {len(data)} instances\")\n",
    "    data = pd.json_normalize(data)\n",
    "    return data"
   ]
  },
  {
   "cell_type": "code",
   "execution_count": 4,
   "metadata": {},
   "outputs": [
    {
     "name": "stdout",
     "output_type": "stream",
     "text": [
      "loaded 25793 instances\n"
     ]
    },
    {
     "data": {
      "text/html": "<div>\n<style scoped>\n    .dataframe tbody tr th:only-of-type {\n        vertical-align: middle;\n    }\n\n    .dataframe tbody tr th {\n        vertical-align: top;\n    }\n\n    .dataframe thead th {\n        text-align: right;\n    }\n</style>\n<table border=\"1\" class=\"dataframe\">\n  <thead>\n    <tr style=\"text-align: right;\">\n      <th></th>\n      <th>authors</th>\n      <th>year</th>\n      <th>abstract</th>\n      <th>venue</th>\n      <th>title</th>\n    </tr>\n  </thead>\n  <tbody>\n    <tr>\n      <th>0</th>\n      <td>[42, 13720, 36]</td>\n      <td>9</td>\n      <td>[2455, 1858, 2335, 1543, 1800, 1860, 2000, 286...</td>\n      <td>20</td>\n      <td>[41, 1550, 1563, 1594, 1544, 1919, 1644, 37, 1...</td>\n    </tr>\n    <tr>\n      <th>1</th>\n      <td>[1359, 15881, 45]</td>\n      <td>15</td>\n      <td>[40, 1542, 1691, 2449, 1535, 3616, 2206, 1904,...</td>\n      <td>2</td>\n      <td>[1731, 47, 11, 57, 4624, 1525, 1535, 47, 11, 3...</td>\n    </tr>\n    <tr>\n      <th>2</th>\n      <td>[19166, 17763]</td>\n      <td>17</td>\n      <td>[40, 1542, 1691, 2449, 1535, 2610, 1543, 1535,...</td>\n      <td></td>\n      <td>[2085, 1719, 1846, 1745, 2243, 1553, 1606, 159...</td>\n    </tr>\n    <tr>\n      <th>3</th>\n      <td>[97]</td>\n      <td>10</td>\n      <td>[46, 1624, 1547, 56, 1687, 1644, 6, 7, 3386, 1...</td>\n      <td>4</td>\n      <td>[40, 1733, 1735, 1540, 1655, 46, 1624, 1547, 5...</td>\n    </tr>\n    <tr>\n      <th>4</th>\n      <td>[19617, 2]</td>\n      <td>10</td>\n      <td>[37, 3709, 3836, 1586, 2151, 1727, 3021, 1860,...</td>\n      <td>9</td>\n      <td>[38, 1592, 2088, 1543, 1574, 1727, 1597, 1813,...</td>\n    </tr>\n  </tbody>\n</table>\n</div>",
      "text/plain": "             authors  year                                           abstract  \\\n0    [42, 13720, 36]     9  [2455, 1858, 2335, 1543, 1800, 1860, 2000, 286...   \n1  [1359, 15881, 45]    15  [40, 1542, 1691, 2449, 1535, 3616, 2206, 1904,...   \n2     [19166, 17763]    17  [40, 1542, 1691, 2449, 1535, 2610, 1543, 1535,...   \n3               [97]    10  [46, 1624, 1547, 56, 1687, 1644, 6, 7, 3386, 1...   \n4         [19617, 2]    10  [37, 3709, 3836, 1586, 2151, 1727, 3021, 1860,...   \n\n  venue                                              title  \n0    20  [41, 1550, 1563, 1594, 1544, 1919, 1644, 37, 1...  \n1     2  [1731, 47, 11, 57, 4624, 1525, 1535, 47, 11, 3...  \n2        [2085, 1719, 1846, 1745, 2243, 1553, 1606, 159...  \n3     4  [40, 1733, 1735, 1540, 1655, 46, 1624, 1547, 5...  \n4     9  [38, 1592, 2088, 1543, 1574, 1727, 1597, 1813,...  "
     },
     "execution_count": 4,
     "metadata": {},
     "output_type": "execute_result"
    }
   ],
   "source": [
    "path = \"train.json\"\n",
    "train = load_data_set(path)\n",
    "train.head()"
   ]
  },
  {
   "cell_type": "markdown",
   "metadata": {},
   "source": [
    "## Preprocessing"
   ]
  },
  {
   "cell_type": "code",
   "execution_count": 5,
   "metadata": {},
   "outputs": [],
   "source": [
    "def preprocess(df: pd.DataFrame, train=True, drop_samples=False):\n",
    "    \n",
    "    df = df.copy(deep=True)\n",
    "   \n",
    "    if train:\n",
    "        df[\"target authors\"] = df[\"authors\"].apply(lambda x: filter_authors(x))\n",
    "        df[\"coauthors\"]      = df[\"authors\"].apply(lambda x: filter_authors(x, prolifics=False))\n",
    "        df = df.drop([\"authors\"], axis=1)\n",
    "    \n",
    "    # drops samples containing no prolific authors, Reduces training set by ~60% to 7000 samples\n",
    "    if drop_samples:\n",
    "        df[\"has target\"] = df[\"target authors\"].apply(lambda x: len(x)>0)\n",
    "        df = df[df[\"has target\"] == True]\n",
    "        df = df.drop([\"has target\"], axis=1)\n",
    "        \n",
    "    # text transormation\n",
    "    # we stringify the list of int's to be used as inputs to the TF-IDF vectoriser\n",
    "    df[\"text\"] = df[\"title\"] + df[\"abstract\"]\n",
    "    df[\"str text\"] = df[\"text\"].apply(lambda xs: ''.join(str(x)+' ' for x in xs))\n",
    "    \n",
    "    # preprocessing for venue. We use minmax scaling as a matter of best-practice. \n",
    "    # as we require all rows to have integer values, we give blank venues a dummy value of 465\n",
    "    scalar = MinMaxScaler()\n",
    "    df.loc[df.venue == \"\", \"venue\"] = 465\n",
    "    df[\"venue\"] = scalar.fit_transform(df[\"venue\"].to_numpy().reshape(-1, 1))\n",
    "\n",
    "    # drop\n",
    "    df = df.drop([\"abstract\", \"title\", \"year\"], axis=1)\n",
    "    return df"
   ]
  },
  {
   "cell_type": "code",
   "execution_count": 6,
   "metadata": {},
   "outputs": [],
   "source": [
    "def filter_authors(authors: List[int], prolifics=True):\n",
    "    \"\"\"\n",
    "    filters authors between prolific and coauthors\n",
    "    \"\"\"\n",
    "    if prolifics:\n",
    "        prolifics = filter(lambda x: x < 100, authors)\n",
    "        return list(prolifics)\n",
    "    else:\n",
    "        coauthors = filter(lambda x: x>=100, authors)\n",
    "        return list(coauthors)"
   ]
  },
  {
   "cell_type": "code",
   "execution_count": 7,
   "metadata": {},
   "outputs": [
    {
     "data": {
      "text/html": "<div>\n<style scoped>\n    .dataframe tbody tr th:only-of-type {\n        vertical-align: middle;\n    }\n\n    .dataframe tbody tr th {\n        vertical-align: top;\n    }\n\n    .dataframe thead th {\n        text-align: right;\n    }\n</style>\n<table border=\"1\" class=\"dataframe\">\n  <thead>\n    <tr style=\"text-align: right;\">\n      <th></th>\n      <th>venue</th>\n      <th>target authors</th>\n      <th>coauthors</th>\n      <th>text</th>\n      <th>str text</th>\n    </tr>\n  </thead>\n  <tbody>\n    <tr>\n      <th>0</th>\n      <td>0.043011</td>\n      <td>[42, 36]</td>\n      <td>[13720]</td>\n      <td>[41, 1550, 1563, 1594, 1544, 1919, 1644, 37, 1...</td>\n      <td>41 1550 1563 1594 1544 1919 1644 37 1539 1715 ...</td>\n    </tr>\n    <tr>\n      <th>1</th>\n      <td>0.004301</td>\n      <td>[45]</td>\n      <td>[1359, 15881]</td>\n      <td>[1731, 47, 11, 57, 4624, 1525, 1535, 47, 11, 3...</td>\n      <td>1731 47 11 57 4624 1525 1535 47 11 3522 2223 1...</td>\n    </tr>\n    <tr>\n      <th>3</th>\n      <td>0.008602</td>\n      <td>[97]</td>\n      <td>[]</td>\n      <td>[40, 1733, 1735, 1540, 1655, 46, 1624, 1547, 5...</td>\n      <td>40 1733 1735 1540 1655 46 1624 1547 56 1687 16...</td>\n    </tr>\n    <tr>\n      <th>4</th>\n      <td>0.019355</td>\n      <td>[2]</td>\n      <td>[19617]</td>\n      <td>[38, 1592, 2088, 1543, 1574, 1727, 1597, 1813,...</td>\n      <td>38 1592 2088 1543 1574 1727 1597 1813 1926 152...</td>\n    </tr>\n    <tr>\n      <th>9</th>\n      <td>0.000000</td>\n      <td>[44, 2]</td>\n      <td>[9641, 5623]</td>\n      <td>[1560, 1694, 11, 1546, 11, 3066, 1728, 47, 160...</td>\n      <td>1560 1694 11 1546 11 3066 1728 47 1603 1553 11...</td>\n    </tr>\n  </tbody>\n</table>\n</div>",
      "text/plain": "      venue target authors      coauthors  \\\n0  0.043011       [42, 36]        [13720]   \n1  0.004301           [45]  [1359, 15881]   \n3  0.008602           [97]             []   \n4  0.019355            [2]        [19617]   \n9  0.000000        [44, 2]   [9641, 5623]   \n\n                                                text  \\\n0  [41, 1550, 1563, 1594, 1544, 1919, 1644, 37, 1...   \n1  [1731, 47, 11, 57, 4624, 1525, 1535, 47, 11, 3...   \n3  [40, 1733, 1735, 1540, 1655, 46, 1624, 1547, 5...   \n4  [38, 1592, 2088, 1543, 1574, 1727, 1597, 1813,...   \n9  [1560, 1694, 11, 1546, 11, 3066, 1728, 47, 160...   \n\n                                            str text  \n0  41 1550 1563 1594 1544 1919 1644 37 1539 1715 ...  \n1  1731 47 11 57 4624 1525 1535 47 11 3522 2223 1...  \n3  40 1733 1735 1540 1655 46 1624 1547 56 1687 16...  \n4  38 1592 2088 1543 1574 1727 1597 1813 1926 152...  \n9  1560 1694 11 1546 11 3066 1728 47 1603 1553 11...  "
     },
     "execution_count": 7,
     "metadata": {},
     "output_type": "execute_result"
    }
   ],
   "source": [
    "df = preprocess(train, train=True, drop_samples=True)\n",
    "df.head()"
   ]
  },
  {
   "cell_type": "markdown",
   "metadata": {},
   "source": [
    "## TF-IDF Preprocessing\n",
    "\n",
    "TF-IDF is a nlp preprocessing method to map text input to a vector of reals. TF-IDF is an improvement upon previous feature engineering that we have performed as it adjusts the value of each word, relative to how freuently it occurs. Stop words such as *the, it, how* have relatively low weightings, so the resulting vector only captures the most *important* words within the input. This (typically) leads to TF-IDF representations outperforming word-count representations for most tasks\n",
    "\n",
    "We use `sklearn`'s feature extraction to automate this process. "
   ]
  },
  {
   "cell_type": "code",
   "execution_count": 8,
   "metadata": {},
   "outputs": [],
   "source": [
    "from sklearn.feature_extraction.text import TfidfVectorizer\n",
    "\n",
    "tfidf   = TfidfVectorizer()\n",
    "vectors = tfidf.fit_transform(df[\"str text\"])"
   ]
  },
  {
   "cell_type": "code",
   "execution_count": 9,
   "metadata": {},
   "outputs": [
    {
     "data": {
      "text/html": "<div>\n<style scoped>\n    .dataframe tbody tr th:only-of-type {\n        vertical-align: middle;\n    }\n\n    .dataframe tbody tr th {\n        vertical-align: top;\n    }\n\n    .dataframe thead th {\n        text-align: right;\n    }\n</style>\n<table border=\"1\" class=\"dataframe\">\n  <thead>\n    <tr style=\"text-align: right;\">\n      <th></th>\n      <th>10</th>\n      <th>100</th>\n      <th>1005</th>\n      <th>1006</th>\n      <th>1007</th>\n      <th>1009</th>\n      <th>101</th>\n      <th>1014</th>\n      <th>1016</th>\n      <th>1022</th>\n      <th>...</th>\n      <th>962</th>\n      <th>965</th>\n      <th>968</th>\n      <th>970</th>\n      <th>973</th>\n      <th>977</th>\n      <th>98</th>\n      <th>980</th>\n      <th>987</th>\n      <th>998</th>\n    </tr>\n  </thead>\n  <tbody>\n    <tr>\n      <th>0</th>\n      <td>0.000000</td>\n      <td>0.0</td>\n      <td>0.0</td>\n      <td>0.0</td>\n      <td>0.0</td>\n      <td>0.0</td>\n      <td>0.0</td>\n      <td>0.0</td>\n      <td>0.0</td>\n      <td>0.0</td>\n      <td>...</td>\n      <td>0.0</td>\n      <td>0.0</td>\n      <td>0.0</td>\n      <td>0.0</td>\n      <td>0.0</td>\n      <td>0.0</td>\n      <td>0.0</td>\n      <td>0.0</td>\n      <td>0.0</td>\n      <td>0.0</td>\n    </tr>\n    <tr>\n      <th>1</th>\n      <td>0.000000</td>\n      <td>0.0</td>\n      <td>0.0</td>\n      <td>0.0</td>\n      <td>0.0</td>\n      <td>0.0</td>\n      <td>0.0</td>\n      <td>0.0</td>\n      <td>0.0</td>\n      <td>0.0</td>\n      <td>...</td>\n      <td>0.0</td>\n      <td>0.0</td>\n      <td>0.0</td>\n      <td>0.0</td>\n      <td>0.0</td>\n      <td>0.0</td>\n      <td>0.0</td>\n      <td>0.0</td>\n      <td>0.0</td>\n      <td>0.0</td>\n    </tr>\n    <tr>\n      <th>2</th>\n      <td>0.090374</td>\n      <td>0.0</td>\n      <td>0.0</td>\n      <td>0.0</td>\n      <td>0.0</td>\n      <td>0.0</td>\n      <td>0.0</td>\n      <td>0.0</td>\n      <td>0.0</td>\n      <td>0.0</td>\n      <td>...</td>\n      <td>0.0</td>\n      <td>0.0</td>\n      <td>0.0</td>\n      <td>0.0</td>\n      <td>0.0</td>\n      <td>0.0</td>\n      <td>0.0</td>\n      <td>0.0</td>\n      <td>0.0</td>\n      <td>0.0</td>\n    </tr>\n    <tr>\n      <th>3</th>\n      <td>0.018773</td>\n      <td>0.0</td>\n      <td>0.0</td>\n      <td>0.0</td>\n      <td>0.0</td>\n      <td>0.0</td>\n      <td>0.0</td>\n      <td>0.0</td>\n      <td>0.0</td>\n      <td>0.0</td>\n      <td>...</td>\n      <td>0.0</td>\n      <td>0.0</td>\n      <td>0.0</td>\n      <td>0.0</td>\n      <td>0.0</td>\n      <td>0.0</td>\n      <td>0.0</td>\n      <td>0.0</td>\n      <td>0.0</td>\n      <td>0.0</td>\n    </tr>\n    <tr>\n      <th>4</th>\n      <td>0.130861</td>\n      <td>0.0</td>\n      <td>0.0</td>\n      <td>0.0</td>\n      <td>0.0</td>\n      <td>0.0</td>\n      <td>0.0</td>\n      <td>0.0</td>\n      <td>0.0</td>\n      <td>0.0</td>\n      <td>...</td>\n      <td>0.0</td>\n      <td>0.0</td>\n      <td>0.0</td>\n      <td>0.0</td>\n      <td>0.0</td>\n      <td>0.0</td>\n      <td>0.0</td>\n      <td>0.0</td>\n      <td>0.0</td>\n      <td>0.0</td>\n    </tr>\n  </tbody>\n</table>\n<p>5 rows × 3869 columns</p>\n</div>",
      "text/plain": "         10  100  1005  1006  1007  1009  101  1014  1016  1022  ...  962  \\\n0  0.000000  0.0   0.0   0.0   0.0   0.0  0.0   0.0   0.0   0.0  ...  0.0   \n1  0.000000  0.0   0.0   0.0   0.0   0.0  0.0   0.0   0.0   0.0  ...  0.0   \n2  0.090374  0.0   0.0   0.0   0.0   0.0  0.0   0.0   0.0   0.0  ...  0.0   \n3  0.018773  0.0   0.0   0.0   0.0   0.0  0.0   0.0   0.0   0.0  ...  0.0   \n4  0.130861  0.0   0.0   0.0   0.0   0.0  0.0   0.0   0.0   0.0  ...  0.0   \n\n   965  968  970  973  977   98  980  987  998  \n0  0.0  0.0  0.0  0.0  0.0  0.0  0.0  0.0  0.0  \n1  0.0  0.0  0.0  0.0  0.0  0.0  0.0  0.0  0.0  \n2  0.0  0.0  0.0  0.0  0.0  0.0  0.0  0.0  0.0  \n3  0.0  0.0  0.0  0.0  0.0  0.0  0.0  0.0  0.0  \n4  0.0  0.0  0.0  0.0  0.0  0.0  0.0  0.0  0.0  \n\n[5 rows x 3869 columns]"
     },
     "execution_count": 9,
     "metadata": {},
     "output_type": "execute_result"
    }
   ],
   "source": [
    "feature_names = tfidf.get_feature_names_out()\n",
    "dense = vectors.todense()\n",
    "denselist = dense.tolist() \n",
    "df_text = pd.DataFrame(denselist, columns=feature_names) \n",
    "\n",
    "df_text.head()"
   ]
  },
  {
   "cell_type": "code",
   "execution_count": null,
   "metadata": {},
   "outputs": [],
   "source": []
  },
  {
   "cell_type": "code",
   "execution_count": 10,
   "metadata": {},
   "outputs": [
    {
     "data": {
      "text/html": "<div>\n<style scoped>\n    .dataframe tbody tr th:only-of-type {\n        vertical-align: middle;\n    }\n\n    .dataframe tbody tr th {\n        vertical-align: top;\n    }\n\n    .dataframe thead th {\n        text-align: right;\n    }\n</style>\n<table border=\"1\" class=\"dataframe\">\n  <thead>\n    <tr style=\"text-align: right;\">\n      <th></th>\n      <th>10</th>\n      <th>100</th>\n      <th>1005</th>\n      <th>1006</th>\n      <th>1007</th>\n      <th>1009</th>\n      <th>101</th>\n      <th>1014</th>\n      <th>1016</th>\n      <th>1022</th>\n      <th>...</th>\n      <th>970</th>\n      <th>973</th>\n      <th>977</th>\n      <th>98</th>\n      <th>980</th>\n      <th>987</th>\n      <th>998</th>\n      <th>target authors</th>\n      <th>venue</th>\n      <th>coauthors</th>\n    </tr>\n  </thead>\n  <tbody>\n    <tr>\n      <th>0</th>\n      <td>0.000000</td>\n      <td>0.0</td>\n      <td>0.0</td>\n      <td>0.0</td>\n      <td>0.0</td>\n      <td>0.0</td>\n      <td>0.0</td>\n      <td>0.0</td>\n      <td>0.0</td>\n      <td>0.0</td>\n      <td>...</td>\n      <td>0.0</td>\n      <td>0.0</td>\n      <td>0.0</td>\n      <td>0.0</td>\n      <td>0.0</td>\n      <td>0.0</td>\n      <td>0.0</td>\n      <td>[42, 36]</td>\n      <td>0.043011</td>\n      <td>[13720]</td>\n    </tr>\n    <tr>\n      <th>1</th>\n      <td>0.000000</td>\n      <td>0.0</td>\n      <td>0.0</td>\n      <td>0.0</td>\n      <td>0.0</td>\n      <td>0.0</td>\n      <td>0.0</td>\n      <td>0.0</td>\n      <td>0.0</td>\n      <td>0.0</td>\n      <td>...</td>\n      <td>0.0</td>\n      <td>0.0</td>\n      <td>0.0</td>\n      <td>0.0</td>\n      <td>0.0</td>\n      <td>0.0</td>\n      <td>0.0</td>\n      <td>[45]</td>\n      <td>0.004301</td>\n      <td>[1359, 15881]</td>\n    </tr>\n    <tr>\n      <th>2</th>\n      <td>0.090374</td>\n      <td>0.0</td>\n      <td>0.0</td>\n      <td>0.0</td>\n      <td>0.0</td>\n      <td>0.0</td>\n      <td>0.0</td>\n      <td>0.0</td>\n      <td>0.0</td>\n      <td>0.0</td>\n      <td>...</td>\n      <td>0.0</td>\n      <td>0.0</td>\n      <td>0.0</td>\n      <td>0.0</td>\n      <td>0.0</td>\n      <td>0.0</td>\n      <td>0.0</td>\n      <td>[97]</td>\n      <td>0.008602</td>\n      <td>[]</td>\n    </tr>\n    <tr>\n      <th>3</th>\n      <td>0.018773</td>\n      <td>0.0</td>\n      <td>0.0</td>\n      <td>0.0</td>\n      <td>0.0</td>\n      <td>0.0</td>\n      <td>0.0</td>\n      <td>0.0</td>\n      <td>0.0</td>\n      <td>0.0</td>\n      <td>...</td>\n      <td>0.0</td>\n      <td>0.0</td>\n      <td>0.0</td>\n      <td>0.0</td>\n      <td>0.0</td>\n      <td>0.0</td>\n      <td>0.0</td>\n      <td>[2]</td>\n      <td>0.019355</td>\n      <td>[19617]</td>\n    </tr>\n    <tr>\n      <th>4</th>\n      <td>0.130861</td>\n      <td>0.0</td>\n      <td>0.0</td>\n      <td>0.0</td>\n      <td>0.0</td>\n      <td>0.0</td>\n      <td>0.0</td>\n      <td>0.0</td>\n      <td>0.0</td>\n      <td>0.0</td>\n      <td>...</td>\n      <td>0.0</td>\n      <td>0.0</td>\n      <td>0.0</td>\n      <td>0.0</td>\n      <td>0.0</td>\n      <td>0.0</td>\n      <td>0.0</td>\n      <td>[44, 2]</td>\n      <td>0.000000</td>\n      <td>[9641, 5623]</td>\n    </tr>\n  </tbody>\n</table>\n<p>5 rows × 3872 columns</p>\n</div>",
      "text/plain": "         10  100  1005  1006  1007  1009  101  1014  1016  1022  ...  970  \\\n0  0.000000  0.0   0.0   0.0   0.0   0.0  0.0   0.0   0.0   0.0  ...  0.0   \n1  0.000000  0.0   0.0   0.0   0.0   0.0  0.0   0.0   0.0   0.0  ...  0.0   \n2  0.090374  0.0   0.0   0.0   0.0   0.0  0.0   0.0   0.0   0.0  ...  0.0   \n3  0.018773  0.0   0.0   0.0   0.0   0.0  0.0   0.0   0.0   0.0  ...  0.0   \n4  0.130861  0.0   0.0   0.0   0.0   0.0  0.0   0.0   0.0   0.0  ...  0.0   \n\n   973  977   98  980  987  998  target authors     venue      coauthors  \n0  0.0  0.0  0.0  0.0  0.0  0.0        [42, 36]  0.043011        [13720]  \n1  0.0  0.0  0.0  0.0  0.0  0.0            [45]  0.004301  [1359, 15881]  \n2  0.0  0.0  0.0  0.0  0.0  0.0            [97]  0.008602             []  \n3  0.0  0.0  0.0  0.0  0.0  0.0             [2]  0.019355        [19617]  \n4  0.0  0.0  0.0  0.0  0.0  0.0         [44, 2]  0.000000   [9641, 5623]  \n\n[5 rows x 3872 columns]"
     },
     "execution_count": 10,
     "metadata": {},
     "output_type": "execute_result"
    }
   ],
   "source": [
    "df_auth_venue = df[[\"target authors\", \"venue\", \"coauthors\"]]\n",
    "df_full       = pd.concat([df_text.reset_index(drop=True), df_auth_venue.reset_index(drop=True)], axis=1)\n",
    "df_full.head()"
   ]
  },
  {
   "cell_type": "markdown",
   "metadata": {},
   "source": [
    "## Author Preprocessing\n",
    "\n",
    "We previously used a binning strategy of dealing with coauthors. This time, we instead use a simple count of how many coauthors (with `id>100`) they have previously colaborated with appear in the paper. To do this, we build a dictionary of lists of coauthors for each prolific author."
   ]
  },
  {
   "cell_type": "code",
   "execution_count": 11,
   "metadata": {},
   "outputs": [],
   "source": [
    "def construct_collaborator_dictionary(df: pd.DataFrame):\n",
    "    \"\"\"\n",
    "    Constructs a database of collobaroter for given author id key. \n",
    "    \"\"\"\n",
    "    \n",
    "    collaboraters = {}\n",
    "    authors       = np.arange(100)\n",
    "    \n",
    "    for author in authors:\n",
    "        df_auth = df.copy(deep=True)\n",
    "        df_auth[\"label\"] = df_auth[\"target authors\"].apply(lambda x: 1 if author in x else 0)\n",
    "        df_auth = df_auth[df_auth[\"label\"] == 1]\n",
    "        coauths = list(set(df_auth[\"coauthors\"].sum()))\n",
    "        collaboraters[author] = coauths\n",
    "    \n",
    "    return collaboraters"
   ]
  },
  {
   "cell_type": "code",
   "execution_count": 12,
   "metadata": {},
   "outputs": [],
   "source": [
    "collaborator_db = construct_collaborator_dictionary(df_full)"
   ]
  },
  {
   "cell_type": "markdown",
   "metadata": {},
   "source": [
    "## Model Validation\n",
    "\n",
    "We now build and validate a model. We use a `RANDOM_STATE` seed to ensure we generate the same training/evaluation split. We write our results to a csv file to avoid an unecessarily long notebook"
   ]
  },
  {
   "cell_type": "code",
   "execution_count": 13,
   "metadata": {},
   "outputs": [],
   "source": [
    "def upsample_training(X_train, y_train):\n",
    "    \"\"\"\n",
    "    upsamples the minority class until class balance is achieved\n",
    "    \"\"\"\n",
    "    X = pd.concat([X_train, y_train], axis=1)\n",
    "    \n",
    "    \n",
    "    pos = X[X[\"label\"] == 1]\n",
    "    neg = X[X[\"label\"] == 0]\n",
    "    \n",
    "    pos_upsample = resample(pos, replace=True, n_samples=len(neg), random_state=RANDOM_STATE)\n",
    "    \n",
    "    resampled = pd.concat([neg, pos_upsample])\n",
    "\n",
    "    y_train = resampled[\"label\"]\n",
    "    X_train = resampled.drop([\"label\"], axis=1)\n",
    "    return X_train, y_train\n",
    "\n",
    "\n",
    "def resample_training(X_train, y_train):\n",
    "    \"\"\"\n",
    "    resamples class imbalance using SMOTE: \n",
    "    https://imbalanced-learn.org/stable/references/generated/imblearn.over_sampling.SMOTE.html\n",
    "    \"\"\"\n",
    "    sm = SMOTE(random_state=RANDOM_STATE)\n",
    "    X_train, y_train = sm.fit_resample(X_train, y_train)\n",
    "    return X_train, y_train"
   ]
  },
  {
   "cell_type": "code",
   "execution_count": 14,
   "metadata": {},
   "outputs": [],
   "source": [
    "def get_train_val_data(author: int, df:pd.DataFrame, split=0.1):\n",
    "    # take copy and prepare label\n",
    "    df = df.copy(deep=True)\n",
    "    df[\"label\"] = df[\"target authors\"].apply(lambda x: 1 if author in x else 0)\n",
    "    \n",
    "    # map number of collaborators for this given instance \n",
    "    collabs = collaborator_db[author]\n",
    "    df[\"num collaborators\"] = df[\"coauthors\"].apply(lambda x: len(set(x).intersection(collabs)))\n",
    "    \n",
    "    # drop irrelevant columns\n",
    "    X = df.drop([\"label\", \"target authors\", \"coauthors\"], axis=1)\n",
    "    y = df[\"label\"]\n",
    "    \n",
    "    # split training and validation - we have fixed random state for reproducability\n",
    "    X_train, X_val, y_train, y_val = train_test_split(X, y, test_size=0.2, random_state=RANDOM_STATE)\n",
    "    \n",
    "    # upsample to deal with class imbalance\n",
    "    X_train, y_train = upsample_training(X_train, y_train)\n",
    "    \n",
    "    # we convert to numpy arrays for fitting to sklearn models (this is done later)\n",
    "    # the reason for this is that sklearn throws annoying warnings otherwise\n",
    "    return X_train, X_val, y_train, y_val"
   ]
  },
  {
   "cell_type": "code",
   "execution_count": 15,
   "metadata": {},
   "outputs": [],
   "source": [
    "def feature_select(df, df_label, select_f):\n",
    "\n",
    "    #Drop the relevant variables from the data frame and store them\n",
    "    df_auth_venue = df[[\"venue\", \"num collaborators\"]]\n",
    "    df_text = df.drop([\"venue\", \"num collaborators\"], axis=1)\n",
    "\n",
    "    #now use feature selection:\n",
    "    df_text = select_f.fit_transform(df_text, df_label)\n",
    "\n",
    "    #Then recombine:\n",
    "    df_text = pd.DataFrame(df_text)\n",
    "    df = pd.concat([df_text.reset_index(drop=True), df_auth_venue.reset_index(drop=True)], axis=1)\n",
    "    return df\n",
    "\n",
    "\n"
   ]
  },
  {
   "cell_type": "code",
   "execution_count": 16,
   "metadata": {},
   "outputs": [],
   "source": [
    "def validate_to_csv(df: pd.DataFrame):\n",
    "    \"\"\"\n",
    "    As we are building 100 classifiers, printing f1 scores within a notebook is impractical. \n",
    "    following function writes results to csv. \n",
    "    \"\"\"\n",
    "    author_lst_1 = []\n",
    "    \n",
    "    with open(\"Results/validation2000SGDClassifier.csv\", mode='w') as f:    \n",
    "        writer = csv.writer(f)\n",
    "        \n",
    "        header = ['Author Id','F1 score']\n",
    "        writer.writerow(header)\n",
    "        \n",
    "        # loop over each author, build classifier and write to output\n",
    "        authors = np.arange(100)\n",
    "        \n",
    "        avg = 0\n",
    "        for author in tqdm(authors):\n",
    "\n",
    "            X_train, X_val, y_train, y_val = get_train_val_data(author, df)            \n",
    "            select_f = SelectKBest(chi2, k=2000)#2000)#100)\n",
    "            clf = SGDClassifier()\n",
    "            ################################################Doing feature selection on the TD-IDF output:\n",
    "            X_train = feature_select(X_train, y_train, select_f)\n",
    "            cols = select_f.get_support(indices=True)\n",
    "            X_val_temp = X_val[[\"venue\", \"num collaborators\"]]\n",
    "            X_txt = X_val.iloc[:,cols]\n",
    "            X_val = pd.concat([X_txt.reset_index(drop=True), X_val_temp.reset_index(drop=True)], axis=1)\n",
    "            X_train, y_train = np.array(X_train), np.array(y_train)\n",
    "            X_val, y_val = np.array(X_val), np.array(y_val)\n",
    "            ################################################\n",
    "            clf.fit(X_train, y_train)\n",
    "            y_pred = clf.predict(X_val)\n",
    "    \n",
    "            f1 = f1_score(y_pred, y_val)\n",
    "            avg += f1\n",
    "            writer.writerow([author, f1])\n",
    "            author_lst_1.append(clf)\n",
    "        writer.writerow([\"average\", avg])\n",
    "    return"
   ]
  },
  {
   "cell_type": "code",
   "execution_count": 17,
   "metadata": {},
   "outputs": [
    {
     "name": "stderr",
     "output_type": "stream",
     "text": [
      "100%|██████████| 100/100 [05:37<00:00,  3.38s/it]\n"
     ]
    }
   ],
   "source": [
    "validate_to_csv(df_full)"
   ]
  },
  {
   "cell_type": "markdown",
   "metadata": {},
   "source": [
    "## Build Binary Classifiers\n",
    "\n",
    "We now build the 100 binary classifers, one for each author"
   ]
  },
  {
   "cell_type": "code",
   "execution_count": 18,
   "metadata": {},
   "outputs": [
    {
     "name": "stderr",
     "output_type": "stream",
     "text": [
      "100%|██████████| 100/100 [05:31<00:00,  3.31s/it]\n"
     ]
    }
   ],
   "source": [
    "\n",
    "models = []\n",
    "select_mod = dd(int)\n",
    "authors = np.arange(100)\n",
    "\n",
    "for author in tqdm(authors):\n",
    "    X_train, X_val, y_train, y_val = get_train_val_data(author, df_full, split=0.1)\n",
    "    clf = SGDClassifier()\n",
    "    ################################################Doing feature selection on the TD-IDF output:\n",
    "    select_f = SelectKBest(chi2, k=2000)#2000)#k=100)\n",
    "    X_train = feature_select(X_train, y_train, select_f)\n",
    "    cols = select_f.get_support(indices=True)\n",
    "\n",
    "    X_val_temp = X_val[[\"venue\", \"num collaborators\"]]\n",
    "    X_txt = X_val.iloc[:,cols]\n",
    "    X_val = pd.concat([X_txt.reset_index(drop=True), X_val_temp.reset_index(drop=True)], axis=1)\n",
    "\n",
    "    X_train, y_train = np.array(X_train), np.array(y_train)\n",
    "    X_val, y_val = np.array(X_val), np.array(y_val)\n",
    "\n",
    "    clf.fit(X_train, y_train)\n",
    "    y_pred = clf.predict(X_val)\n",
    "\n",
    "    models.append(clf)\n",
    "    select_mod[author] = cols\n"
   ]
  },
  {
   "cell_type": "markdown",
   "metadata": {},
   "source": [
    "## Build Predictions\n",
    "\n",
    "We now load in our `test.json` set to generate predictions. We first put the training data through the usual preprocessing pipeline and exclude vocabular that was not part of our `tf-idf` training lexicon"
   ]
  },
  {
   "cell_type": "code",
   "execution_count": 19,
   "metadata": {},
   "outputs": [
    {
     "name": "stdout",
     "output_type": "stream",
     "text": [
      "loaded 800 instances\n"
     ]
    },
    {
     "data": {
      "text/html": "<div>\n<style scoped>\n    .dataframe tbody tr th:only-of-type {\n        vertical-align: middle;\n    }\n\n    .dataframe tbody tr th {\n        vertical-align: top;\n    }\n\n    .dataframe thead th {\n        text-align: right;\n    }\n</style>\n<table border=\"1\" class=\"dataframe\">\n  <thead>\n    <tr style=\"text-align: right;\">\n      <th></th>\n      <th>identifier</th>\n      <th>coauthors</th>\n      <th>venue</th>\n      <th>text</th>\n      <th>str text</th>\n    </tr>\n  </thead>\n  <tbody>\n    <tr>\n      <th>0</th>\n      <td>0</td>\n      <td>[16336, 1762, 4357, 12564]</td>\n      <td>0.479570</td>\n      <td>[3207, 24, 1798, 1738, 37, 2375, 1568, 11, 53,...</td>\n      <td>3207 24 1798 1738 37 2375 1568 11 53 1584 1903...</td>\n    </tr>\n    <tr>\n      <th>1</th>\n      <td>1</td>\n      <td>[21189, 14088]</td>\n      <td>0.479570</td>\n      <td>[40, 1560, 1536, 1544, 1609, 1705, 1658, 1543,...</td>\n      <td>40 1560 1536 1544 1609 1705 1658 1543 52 11 33...</td>\n    </tr>\n    <tr>\n      <th>2</th>\n      <td>2</td>\n      <td>[3625, 1198, 19889, 794, 2749, 7801]</td>\n      <td>0.015054</td>\n      <td>[47, 1574, 1729, 1641, 11, 37, 2533, 2015, 47,...</td>\n      <td>47 1574 1729 1641 11 37 2533 2015 47 1930 1549...</td>\n    </tr>\n    <tr>\n      <th>3</th>\n      <td>3</td>\n      <td>[19810, 15173, 5876, 111]</td>\n      <td>0.045161</td>\n      <td>[1770, 53, 2054, 1549, 1529, 1723, 2796, 1547,...</td>\n      <td>1770 53 2054 1549 1529 1723 2796 1547 1543 47 ...</td>\n    </tr>\n    <tr>\n      <th>4</th>\n      <td>4</td>\n      <td>[10932, 7668, 11907, 19601, 15307, 10492, 1049...</td>\n      <td>1.000000</td>\n      <td>[18, 1924, 23, 1544, 3927, 2686, 1543, 1535, 1...</td>\n      <td>18 1924 23 1544 3927 2686 1543 1535 1660 1548 ...</td>\n    </tr>\n  </tbody>\n</table>\n</div>",
      "text/plain": "   identifier                                          coauthors     venue  \\\n0           0                         [16336, 1762, 4357, 12564]  0.479570   \n1           1                                     [21189, 14088]  0.479570   \n2           2               [3625, 1198, 19889, 794, 2749, 7801]  0.015054   \n3           3                          [19810, 15173, 5876, 111]  0.045161   \n4           4  [10932, 7668, 11907, 19601, 15307, 10492, 1049...  1.000000   \n\n                                                text  \\\n0  [3207, 24, 1798, 1738, 37, 2375, 1568, 11, 53,...   \n1  [40, 1560, 1536, 1544, 1609, 1705, 1658, 1543,...   \n2  [47, 1574, 1729, 1641, 11, 37, 2533, 2015, 47,...   \n3  [1770, 53, 2054, 1549, 1529, 1723, 2796, 1547,...   \n4  [18, 1924, 23, 1544, 3927, 2686, 1543, 1535, 1...   \n\n                                            str text  \n0  3207 24 1798 1738 37 2375 1568 11 53 1584 1903...  \n1  40 1560 1536 1544 1609 1705 1658 1543 52 11 33...  \n2  47 1574 1729 1641 11 37 2533 2015 47 1930 1549...  \n3  1770 53 2054 1549 1529 1723 2796 1547 1543 47 ...  \n4  18 1924 23 1544 3927 2686 1543 1535 1660 1548 ...  "
     },
     "execution_count": 19,
     "metadata": {},
     "output_type": "execute_result"
    }
   ],
   "source": [
    "\n",
    "path = \"test.json\"\n",
    "df_test = load_data_set(path)\n",
    "df_test = preprocess(df_test, train=False)\n",
    "df_test.head()\n"
   ]
  },
  {
   "cell_type": "code",
   "execution_count": 20,
   "metadata": {},
   "outputs": [],
   "source": [
    "# this complicated looking lambda simply removes any words that were not part of our preprocessing. \n",
    "# failing to do so, would pass an unseen word to our tf-idf vectoriser and would crash our program\n",
    "\n",
    "tfidf_features  = tfidf.get_feature_names_out()\n",
    "df_test['text'] = df_test['text'].apply(lambda xs: list(filter((lambda x: str(x) in tfidf_features), xs)))\n",
    "df_test[\"text\"] = df_test[\"text\"].apply(lambda xs: ''.join(str(x)+' ' for x in xs))\n"
   ]
  },
  {
   "cell_type": "code",
   "execution_count": 21,
   "metadata": {},
   "outputs": [],
   "source": [
    "# now apply the tf-idf transformation to the text component\n",
    "\n",
    "X_test = tfidf.transform(df_test['text'])\n",
    "X_test = pd.DataFrame((X_test.todense().tolist()), columns=tfidf_features)\n"
   ]
  },
  {
   "cell_type": "code",
   "execution_count": 22,
   "metadata": {},
   "outputs": [],
   "source": [
    "# now put everything back together\n",
    "\n",
    "test = pd.concat([X_test, df_test[\"venue\"], df_test[\"coauthors\"]], axis=1)\n"
   ]
  },
  {
   "cell_type": "code",
   "execution_count": 23,
   "metadata": {},
   "outputs": [],
   "source": [
    "\n",
    "def make_predictions(test_df: pd.DataFrame):\n",
    "    \"\"\"\n",
    "    function for writing predictions to output file. \n",
    "    WARNING: Deletes predictions.csv if present in working directory\n",
    "    \"\"\"\n",
    "    if os.path.exists(\"Results/predictionsSGDClassifier.csv\"):\n",
    "        os.remove(\"Results/predictionsSGDClassifier.csv\")\n",
    "        print(\"removed previous predictions\")\n",
    "    \n",
    "    \n",
    "    with open(\"Results/predictionsSGDClassifier.csv\", mode='w') as f:    \n",
    "        writer = csv.writer(f)\n",
    "        \n",
    "        header = ['Id','Predict']\n",
    "        writer.writerow(header)\n",
    "        n      = X_test.shape[0]\n",
    "        \n",
    "        # loop over each training sample and write to necessary format\n",
    "        for Id in tqdm(range(n)):\n",
    "            \n",
    "            # we need to keep x as a dataframe for this model so we can apply the collobartor mapping easily\n",
    "            x   = test_df.iloc[Id].to_frame().T\n",
    "            row = [Id]\n",
    "            authors = \"\"\n",
    "            \n",
    "            for author, model in enumerate(models):\n",
    "                # map number of collaborators for this given instance \n",
    "                X = x.copy(deep = True)\n",
    "                collabs = collaborator_db[author]\n",
    "                X[\"num collaborators\"] = X[\"coauthors\"].apply(lambda x: len(set(x).intersection(collabs)))\n",
    "                #X_temp = X[[\"num collaborators\", ]]\n",
    "                #X_temp = X[[\"venue\", \"num collaborators\"]]\n",
    "                X = X.drop([\"coauthors\"], axis=1)\n",
    "                X_temp = X[[\"venue\", \"num collaborators\"]]\n",
    "                X = X.drop([\"venue\", \"num collaborators\"], axis=1)\n",
    "                X_features = X.iloc[:, select_mod[author]]\n",
    "                X = pd.concat([X_features.reset_index(drop=True), X_temp.reset_index(drop=True)], axis=1)\n",
    "                X = np.array(X).reshape(1, -1)\n",
    "                #Use feature selection\n",
    "                #X = X.iloc[:, select_mod[author]]\n",
    "                if np.array(model.predict(X)).item() == 1:\n",
    "                    authors += str(author) + \" \"\n",
    "\n",
    "            # to match the output requirement \n",
    "            if len(authors) == 0: row = [Id, -1]\n",
    "            else: row = [Id, authors]\n",
    "            \n",
    "            writer.writerow(row)\n",
    "    return\n"
   ]
  },
  {
   "cell_type": "code",
   "execution_count": 24,
   "metadata": {},
   "outputs": [
    {
     "name": "stderr",
     "output_type": "stream",
     "text": [
      "100%|██████████| 800/800 [04:05<00:00,  3.27it/s]\n"
     ]
    }
   ],
   "source": [
    "make_predictions(test)"
   ]
  },
  {
   "cell_type": "code",
   "execution_count": 25,
   "metadata": {},
   "outputs": [
    {
     "data": {
      "text/html": "<div>\n<style scoped>\n    .dataframe tbody tr th:only-of-type {\n        vertical-align: middle;\n    }\n\n    .dataframe tbody tr th {\n        vertical-align: top;\n    }\n\n    .dataframe thead th {\n        text-align: right;\n    }\n</style>\n<table border=\"1\" class=\"dataframe\">\n  <thead>\n    <tr style=\"text-align: right;\">\n      <th></th>\n      <th>10</th>\n      <th>100</th>\n      <th>1005</th>\n      <th>1006</th>\n      <th>1007</th>\n      <th>1009</th>\n      <th>101</th>\n      <th>1014</th>\n      <th>1016</th>\n      <th>1022</th>\n      <th>...</th>\n      <th>968</th>\n      <th>970</th>\n      <th>973</th>\n      <th>977</th>\n      <th>98</th>\n      <th>980</th>\n      <th>987</th>\n      <th>998</th>\n      <th>venue</th>\n      <th>coauthors</th>\n    </tr>\n  </thead>\n  <tbody>\n    <tr>\n      <th>0</th>\n      <td>0.143196</td>\n      <td>0.0</td>\n      <td>0.0</td>\n      <td>0.0</td>\n      <td>0.0</td>\n      <td>0.0</td>\n      <td>0.0</td>\n      <td>0.0</td>\n      <td>0.0</td>\n      <td>0.0</td>\n      <td>...</td>\n      <td>0.0</td>\n      <td>0.0</td>\n      <td>0.0</td>\n      <td>0.0</td>\n      <td>0.0</td>\n      <td>0.0</td>\n      <td>0.0</td>\n      <td>0.0</td>\n      <td>0.479570</td>\n      <td>[16336, 1762, 4357, 12564]</td>\n    </tr>\n    <tr>\n      <th>1</th>\n      <td>0.078285</td>\n      <td>0.0</td>\n      <td>0.0</td>\n      <td>0.0</td>\n      <td>0.0</td>\n      <td>0.0</td>\n      <td>0.0</td>\n      <td>0.0</td>\n      <td>0.0</td>\n      <td>0.0</td>\n      <td>...</td>\n      <td>0.0</td>\n      <td>0.0</td>\n      <td>0.0</td>\n      <td>0.0</td>\n      <td>0.0</td>\n      <td>0.0</td>\n      <td>0.0</td>\n      <td>0.0</td>\n      <td>0.479570</td>\n      <td>[21189, 14088]</td>\n    </tr>\n    <tr>\n      <th>2</th>\n      <td>0.151351</td>\n      <td>0.0</td>\n      <td>0.0</td>\n      <td>0.0</td>\n      <td>0.0</td>\n      <td>0.0</td>\n      <td>0.0</td>\n      <td>0.0</td>\n      <td>0.0</td>\n      <td>0.0</td>\n      <td>...</td>\n      <td>0.0</td>\n      <td>0.0</td>\n      <td>0.0</td>\n      <td>0.0</td>\n      <td>0.0</td>\n      <td>0.0</td>\n      <td>0.0</td>\n      <td>0.0</td>\n      <td>0.015054</td>\n      <td>[3625, 1198, 19889, 794, 2749, 7801]</td>\n    </tr>\n    <tr>\n      <th>3</th>\n      <td>0.028105</td>\n      <td>0.0</td>\n      <td>0.0</td>\n      <td>0.0</td>\n      <td>0.0</td>\n      <td>0.0</td>\n      <td>0.0</td>\n      <td>0.0</td>\n      <td>0.0</td>\n      <td>0.0</td>\n      <td>...</td>\n      <td>0.0</td>\n      <td>0.0</td>\n      <td>0.0</td>\n      <td>0.0</td>\n      <td>0.0</td>\n      <td>0.0</td>\n      <td>0.0</td>\n      <td>0.0</td>\n      <td>0.045161</td>\n      <td>[19810, 15173, 5876, 111]</td>\n    </tr>\n    <tr>\n      <th>4</th>\n      <td>0.070700</td>\n      <td>0.0</td>\n      <td>0.0</td>\n      <td>0.0</td>\n      <td>0.0</td>\n      <td>0.0</td>\n      <td>0.0</td>\n      <td>0.0</td>\n      <td>0.0</td>\n      <td>0.0</td>\n      <td>...</td>\n      <td>0.0</td>\n      <td>0.0</td>\n      <td>0.0</td>\n      <td>0.0</td>\n      <td>0.0</td>\n      <td>0.0</td>\n      <td>0.0</td>\n      <td>0.0</td>\n      <td>1.000000</td>\n      <td>[10932, 7668, 11907, 19601, 15307, 10492, 1049...</td>\n    </tr>\n    <tr>\n      <th>...</th>\n      <td>...</td>\n      <td>...</td>\n      <td>...</td>\n      <td>...</td>\n      <td>...</td>\n      <td>...</td>\n      <td>...</td>\n      <td>...</td>\n      <td>...</td>\n      <td>...</td>\n      <td>...</td>\n      <td>...</td>\n      <td>...</td>\n      <td>...</td>\n      <td>...</td>\n      <td>...</td>\n      <td>...</td>\n      <td>...</td>\n      <td>...</td>\n      <td>...</td>\n      <td>...</td>\n    </tr>\n    <tr>\n      <th>795</th>\n      <td>0.069769</td>\n      <td>0.0</td>\n      <td>0.0</td>\n      <td>0.0</td>\n      <td>0.0</td>\n      <td>0.0</td>\n      <td>0.0</td>\n      <td>0.0</td>\n      <td>0.0</td>\n      <td>0.0</td>\n      <td>...</td>\n      <td>0.0</td>\n      <td>0.0</td>\n      <td>0.0</td>\n      <td>0.0</td>\n      <td>0.0</td>\n      <td>0.0</td>\n      <td>0.0</td>\n      <td>0.0</td>\n      <td>0.479570</td>\n      <td>[2964, 9493]</td>\n    </tr>\n    <tr>\n      <th>796</th>\n      <td>0.133341</td>\n      <td>0.0</td>\n      <td>0.0</td>\n      <td>0.0</td>\n      <td>0.0</td>\n      <td>0.0</td>\n      <td>0.0</td>\n      <td>0.0</td>\n      <td>0.0</td>\n      <td>0.0</td>\n      <td>...</td>\n      <td>0.0</td>\n      <td>0.0</td>\n      <td>0.0</td>\n      <td>0.0</td>\n      <td>0.0</td>\n      <td>0.0</td>\n      <td>0.0</td>\n      <td>0.0</td>\n      <td>0.000000</td>\n      <td>[6305, 4866, 5741, 15334]</td>\n    </tr>\n    <tr>\n      <th>797</th>\n      <td>0.023735</td>\n      <td>0.0</td>\n      <td>0.0</td>\n      <td>0.0</td>\n      <td>0.0</td>\n      <td>0.0</td>\n      <td>0.0</td>\n      <td>0.0</td>\n      <td>0.0</td>\n      <td>0.0</td>\n      <td>...</td>\n      <td>0.0</td>\n      <td>0.0</td>\n      <td>0.0</td>\n      <td>0.0</td>\n      <td>0.0</td>\n      <td>0.0</td>\n      <td>0.0</td>\n      <td>0.0</td>\n      <td>0.000000</td>\n      <td>[4856, 5063]</td>\n    </tr>\n    <tr>\n      <th>798</th>\n      <td>0.286515</td>\n      <td>0.0</td>\n      <td>0.0</td>\n      <td>0.0</td>\n      <td>0.0</td>\n      <td>0.0</td>\n      <td>0.0</td>\n      <td>0.0</td>\n      <td>0.0</td>\n      <td>0.0</td>\n      <td>...</td>\n      <td>0.0</td>\n      <td>0.0</td>\n      <td>0.0</td>\n      <td>0.0</td>\n      <td>0.0</td>\n      <td>0.0</td>\n      <td>0.0</td>\n      <td>0.0</td>\n      <td>0.989247</td>\n      <td>[18095, 2884, 15373]</td>\n    </tr>\n    <tr>\n      <th>799</th>\n      <td>0.052789</td>\n      <td>0.0</td>\n      <td>0.0</td>\n      <td>0.0</td>\n      <td>0.0</td>\n      <td>0.0</td>\n      <td>0.0</td>\n      <td>0.0</td>\n      <td>0.0</td>\n      <td>0.0</td>\n      <td>...</td>\n      <td>0.0</td>\n      <td>0.0</td>\n      <td>0.0</td>\n      <td>0.0</td>\n      <td>0.0</td>\n      <td>0.0</td>\n      <td>0.0</td>\n      <td>0.0</td>\n      <td>0.000000</td>\n      <td>[7095, 13760, 1667, 6085, 2891]</td>\n    </tr>\n  </tbody>\n</table>\n<p>800 rows × 3871 columns</p>\n</div>",
      "text/plain": "           10  100  1005  1006  1007  1009  101  1014  1016  1022  ...  968  \\\n0    0.143196  0.0   0.0   0.0   0.0   0.0  0.0   0.0   0.0   0.0  ...  0.0   \n1    0.078285  0.0   0.0   0.0   0.0   0.0  0.0   0.0   0.0   0.0  ...  0.0   \n2    0.151351  0.0   0.0   0.0   0.0   0.0  0.0   0.0   0.0   0.0  ...  0.0   \n3    0.028105  0.0   0.0   0.0   0.0   0.0  0.0   0.0   0.0   0.0  ...  0.0   \n4    0.070700  0.0   0.0   0.0   0.0   0.0  0.0   0.0   0.0   0.0  ...  0.0   \n..        ...  ...   ...   ...   ...   ...  ...   ...   ...   ...  ...  ...   \n795  0.069769  0.0   0.0   0.0   0.0   0.0  0.0   0.0   0.0   0.0  ...  0.0   \n796  0.133341  0.0   0.0   0.0   0.0   0.0  0.0   0.0   0.0   0.0  ...  0.0   \n797  0.023735  0.0   0.0   0.0   0.0   0.0  0.0   0.0   0.0   0.0  ...  0.0   \n798  0.286515  0.0   0.0   0.0   0.0   0.0  0.0   0.0   0.0   0.0  ...  0.0   \n799  0.052789  0.0   0.0   0.0   0.0   0.0  0.0   0.0   0.0   0.0  ...  0.0   \n\n     970  973  977   98  980  987  998     venue  \\\n0    0.0  0.0  0.0  0.0  0.0  0.0  0.0  0.479570   \n1    0.0  0.0  0.0  0.0  0.0  0.0  0.0  0.479570   \n2    0.0  0.0  0.0  0.0  0.0  0.0  0.0  0.015054   \n3    0.0  0.0  0.0  0.0  0.0  0.0  0.0  0.045161   \n4    0.0  0.0  0.0  0.0  0.0  0.0  0.0  1.000000   \n..   ...  ...  ...  ...  ...  ...  ...       ...   \n795  0.0  0.0  0.0  0.0  0.0  0.0  0.0  0.479570   \n796  0.0  0.0  0.0  0.0  0.0  0.0  0.0  0.000000   \n797  0.0  0.0  0.0  0.0  0.0  0.0  0.0  0.000000   \n798  0.0  0.0  0.0  0.0  0.0  0.0  0.0  0.989247   \n799  0.0  0.0  0.0  0.0  0.0  0.0  0.0  0.000000   \n\n                                             coauthors  \n0                           [16336, 1762, 4357, 12564]  \n1                                       [21189, 14088]  \n2                 [3625, 1198, 19889, 794, 2749, 7801]  \n3                            [19810, 15173, 5876, 111]  \n4    [10932, 7668, 11907, 19601, 15307, 10492, 1049...  \n..                                                 ...  \n795                                       [2964, 9493]  \n796                          [6305, 4866, 5741, 15334]  \n797                                       [4856, 5063]  \n798                               [18095, 2884, 15373]  \n799                    [7095, 13760, 1667, 6085, 2891]  \n\n[800 rows x 3871 columns]"
     },
     "execution_count": 25,
     "metadata": {},
     "output_type": "execute_result"
    }
   ],
   "source": [
    "test"
   ]
  }
 ],
 "metadata": {
  "kernelspec": {
   "display_name": "Python 3.8.12 64-bit ('base': conda)",
   "name": "python3812jvsc74a57bd0e245b9d4d52625933425f13c940396e11f2ad0cf135519173d3aca2cac5d4603"
  },
  "language_info": {
   "codemirror_mode": {
    "name": "ipython",
    "version": 3
   },
   "file_extension": ".py",
   "mimetype": "text/x-python",
   "name": "python",
   "nbconvert_exporter": "python",
   "pygments_lexer": "ipython3",
   "version": "3.8.12"
  }
 },
 "nbformat": 4,
 "nbformat_minor": 5
}