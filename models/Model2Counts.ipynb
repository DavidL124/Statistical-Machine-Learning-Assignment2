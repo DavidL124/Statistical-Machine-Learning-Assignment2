{
 "cells": [
  {
   "cell_type": "markdown",
   "metadata": {},
   "source": [
    "The first model builds classifiers for each of the prolific authors with `id` equal to `0,...,99` by using a 'vectorised' representation of the text. \n",
    "\n",
    "This second model builds the feature space further, by using venue as a secondary feature. \n",
    "\n",
    "We also formalise a training / validation split between our data sets.\n",
    "\n",
    "The idea behind this model is to capture the vocabularly of each author, and the resulting high dimensional feature space should result in near-linear separability. "
   ]
  },
  {
   "cell_type": "code",
   "execution_count": 1,
   "metadata": {},
   "outputs": [],
   "source": [
    "import json\n",
    "import csv\n",
    "import os\n",
    "import numpy as np\n",
    "import pandas as pd\n",
    "from tqdm import tqdm\n",
    "from scipy.sparse import csr_matrix\n",
    "from sklearn.metrics import accuracy_score, f1_score, precision_score, recall_score\n",
    "from sklearn.model_selection import train_test_split\n",
    "from sklearn.preprocessing import MinMaxScaler\n",
    "from sklearn.utils import resample\n",
    "from imblearn.over_sampling import SMOTE\n",
    "from sklearn.linear_model import LogisticRegression, SGDClassifier\n",
    "from typing import List\n",
    "from sklearn.svm import SVC, LinearSVC \n",
    "\n",
    "RANDOM_STATE = 69"
   ]
  },
  {
   "cell_type": "code",
   "execution_count": 2,
   "metadata": {},
   "outputs": [],
   "source": [
    "def load_data_set(path: str):\n",
    "    \"\"\"\n",
    "    loads data set located at path and returns as pandas data frame\n",
    "    \"\"\"\n",
    "    with open(path) as file:\n",
    "        data = json.load(file)\n",
    "    \n",
    "    print(f\"loaded {len(data)} instances\")\n",
    "    data = pd.json_normalize(data)\n",
    "    return data"
   ]
  },
  {
   "cell_type": "code",
   "execution_count": 3,
   "metadata": {},
   "outputs": [],
   "source": [
    "# preprocessing\n",
    "\n",
    "def pre_processing(df: pd.DataFrame, train=True):\n",
    "    \"\"\"\n",
    "    performs initial preprocessing to base data frame\n",
    "    drop_blanks: drop instances with no target authors. reduces training set by ~60%\n",
    "    \"\"\"\n",
    "    # preprocessing for authors\n",
    "    if train:\n",
    "        df[\"target authors\"] = df[\"authors\"].apply(lambda x: filter_authors(x))\n",
    "        df[\"coauthors\"]      = df[\"authors\"].apply(lambda x: filter_authors(x, prolifics=False))\n",
    "        df[\"has target\"]     = df[\"target authors\"].apply(lambda x: len(x)>0)\n",
    "        df = df[df[\"has target\"] == True]\n",
    "        df = df.drop([\"authors\", \"has target\"], axis=1)\n",
    "    \n",
    "    # preprocessing for text - expend text out over separate columns\n",
    "    df[\"abstract\"] = df[\"abstract\"].apply(lambda x: text_to_vector(x))\n",
    "    df[\"title\"]    = df[\"title\"].apply(lambda x: text_to_vector(x))\n",
    "    df[\"text\"]     = df[\"title\"] + df[\"abstract\"]\n",
    "    text_df = pd.DataFrame(df.text.tolist(), index=df.index, columns=[str(i) for i in range(5000)])\n",
    "    \n",
    "    # preprocessing for venue. We use minmax scaling as a matter of best-practice. \n",
    "    # as we require all rows to have integer values, we give blank venues a dummy value of 465\n",
    "    scalar = MinMaxScaler()\n",
    "    df.loc[df.venue == \"\", \"venue\"] = 465\n",
    "    df[\"venue\"] = scalar.fit_transform(df[\"venue\"].to_numpy().reshape(-1, 1))\n",
    "    \n",
    "    # prepocessing for coauthors\n",
    "    # we use a discretised binning strategy, with n=10 bins by default. \n",
    "    df[\"coauthors\"] = df[\"coauthors\"].apply(lambda x: build_bins(x, n_bins=10))\n",
    "    coauth_df = pd.DataFrame(df.coauthors.tolist(), index=df.index, columns=[\"bin \"+str(i) for i in range(10)])\n",
    "    \n",
    "    # dropping irrelivent columns & concat with 5000-column text_df\n",
    "    df = df.drop([\"abstract\", \"title\", \"text\", \"year\", \"coauthors\"], axis=1)\n",
    "    df = pd.concat([df, text_df, coauth_df], axis=1)\n",
    "    \n",
    "    # and drop row identifier if test set\n",
    "    if not train:\n",
    "        df = df.drop([\"identifier\"], axis=1)\n",
    "\n",
    "    return df"
   ]
  },
  {
   "cell_type": "code",
   "execution_count": 4,
   "metadata": {},
   "outputs": [],
   "source": [
    "# Feature transformations\n",
    "\n",
    "def filter_authors(authors: List[int], prolifics=True):\n",
    "    \"\"\"\n",
    "    filters authors between prolific and coauthors\n",
    "    \"\"\"\n",
    "    if prolifics:\n",
    "        prolifics = filter(lambda x: x < 100, authors)\n",
    "        return list(prolifics)\n",
    "    else:\n",
    "        coauthors = filter(lambda x: x>=100, authors)\n",
    "        return list(coauthors)\n",
    "    \n",
    "    \n",
    "def text_to_vector(text: List[int]):\n",
    "    \"\"\"\n",
    "    Converts text to sparse matrix representation\n",
    "    text: List of integers between 1, 4999\n",
    "    \"\"\"\n",
    "    word_vec = np.zeros(5000, dtype=int)\n",
    "    for word in text:\n",
    "        word_vec[word] += 1\n",
    "    return word_vec\n",
    "\n",
    "\n",
    "def build_bins(coauthors: List[int], n_bins=10):\n",
    "    \"\"\"\n",
    "    takes a list of coauthors and returns 10-column data frame\n",
    "    \n",
    "    This might be some of the uggliest code I have ever written, though\n",
    "    sklearn's discrete bins didn't really give what I wanted\n",
    "    \"\"\"\n",
    "    width = np.ceil(21246/n_bins)\n",
    "    bins  = np.zeros(n_bins)\n",
    "    for author in coauthors:\n",
    "        i = 0\n",
    "        while not (max(0,(i-1))*width <= author <= i*width):\n",
    "            i += 1\n",
    "        bins[i-1] += 1\n",
    "    return bins"
   ]
  },
  {
   "cell_type": "code",
   "execution_count": 5,
   "metadata": {},
   "outputs": [
    {
     "name": "stdout",
     "output_type": "stream",
     "text": [
      "loaded 25793 instances\n"
     ]
    },
    {
     "data": {
      "text/html": "<div>\n<style scoped>\n    .dataframe tbody tr th:only-of-type {\n        vertical-align: middle;\n    }\n\n    .dataframe tbody tr th {\n        vertical-align: top;\n    }\n\n    .dataframe thead th {\n        text-align: right;\n    }\n</style>\n<table border=\"1\" class=\"dataframe\">\n  <thead>\n    <tr style=\"text-align: right;\">\n      <th></th>\n      <th>venue</th>\n      <th>target authors</th>\n      <th>0</th>\n      <th>1</th>\n      <th>2</th>\n      <th>3</th>\n      <th>4</th>\n      <th>5</th>\n      <th>6</th>\n      <th>7</th>\n      <th>...</th>\n      <th>bin 0</th>\n      <th>bin 1</th>\n      <th>bin 2</th>\n      <th>bin 3</th>\n      <th>bin 4</th>\n      <th>bin 5</th>\n      <th>bin 6</th>\n      <th>bin 7</th>\n      <th>bin 8</th>\n      <th>bin 9</th>\n    </tr>\n  </thead>\n  <tbody>\n    <tr>\n      <th>0</th>\n      <td>0.043011</td>\n      <td>[42, 36]</td>\n      <td>0</td>\n      <td>0</td>\n      <td>0</td>\n      <td>0</td>\n      <td>0</td>\n      <td>0</td>\n      <td>0</td>\n      <td>0</td>\n      <td>...</td>\n      <td>0.0</td>\n      <td>0.0</td>\n      <td>0.0</td>\n      <td>0.0</td>\n      <td>0.0</td>\n      <td>0.0</td>\n      <td>1.0</td>\n      <td>0.0</td>\n      <td>0.0</td>\n      <td>0.0</td>\n    </tr>\n    <tr>\n      <th>1</th>\n      <td>0.004301</td>\n      <td>[45]</td>\n      <td>0</td>\n      <td>0</td>\n      <td>0</td>\n      <td>0</td>\n      <td>1</td>\n      <td>0</td>\n      <td>2</td>\n      <td>2</td>\n      <td>...</td>\n      <td>1.0</td>\n      <td>0.0</td>\n      <td>0.0</td>\n      <td>0.0</td>\n      <td>0.0</td>\n      <td>0.0</td>\n      <td>0.0</td>\n      <td>1.0</td>\n      <td>0.0</td>\n      <td>0.0</td>\n    </tr>\n    <tr>\n      <th>3</th>\n      <td>0.008602</td>\n      <td>[97]</td>\n      <td>0</td>\n      <td>0</td>\n      <td>0</td>\n      <td>0</td>\n      <td>0</td>\n      <td>0</td>\n      <td>1</td>\n      <td>1</td>\n      <td>...</td>\n      <td>0.0</td>\n      <td>0.0</td>\n      <td>0.0</td>\n      <td>0.0</td>\n      <td>0.0</td>\n      <td>0.0</td>\n      <td>0.0</td>\n      <td>0.0</td>\n      <td>0.0</td>\n      <td>0.0</td>\n    </tr>\n    <tr>\n      <th>4</th>\n      <td>0.019355</td>\n      <td>[2]</td>\n      <td>0</td>\n      <td>0</td>\n      <td>0</td>\n      <td>0</td>\n      <td>0</td>\n      <td>0</td>\n      <td>1</td>\n      <td>1</td>\n      <td>...</td>\n      <td>0.0</td>\n      <td>0.0</td>\n      <td>0.0</td>\n      <td>0.0</td>\n      <td>0.0</td>\n      <td>0.0</td>\n      <td>0.0</td>\n      <td>0.0</td>\n      <td>0.0</td>\n      <td>1.0</td>\n    </tr>\n    <tr>\n      <th>9</th>\n      <td>0.000000</td>\n      <td>[44, 2]</td>\n      <td>0</td>\n      <td>0</td>\n      <td>0</td>\n      <td>0</td>\n      <td>0</td>\n      <td>0</td>\n      <td>0</td>\n      <td>0</td>\n      <td>...</td>\n      <td>0.0</td>\n      <td>0.0</td>\n      <td>1.0</td>\n      <td>0.0</td>\n      <td>1.0</td>\n      <td>0.0</td>\n      <td>0.0</td>\n      <td>0.0</td>\n      <td>0.0</td>\n      <td>0.0</td>\n    </tr>\n  </tbody>\n</table>\n<p>5 rows × 5012 columns</p>\n</div>",
      "text/plain": "      venue target authors  0  1  2  3  4  5  6  7  ...  bin 0  bin 1  bin 2  \\\n0  0.043011       [42, 36]  0  0  0  0  0  0  0  0  ...    0.0    0.0    0.0   \n1  0.004301           [45]  0  0  0  0  1  0  2  2  ...    1.0    0.0    0.0   \n3  0.008602           [97]  0  0  0  0  0  0  1  1  ...    0.0    0.0    0.0   \n4  0.019355            [2]  0  0  0  0  0  0  1  1  ...    0.0    0.0    0.0   \n9  0.000000        [44, 2]  0  0  0  0  0  0  0  0  ...    0.0    0.0    1.0   \n\n   bin 3  bin 4  bin 5  bin 6  bin 7  bin 8  bin 9  \n0    0.0    0.0    0.0    1.0    0.0    0.0    0.0  \n1    0.0    0.0    0.0    0.0    1.0    0.0    0.0  \n3    0.0    0.0    0.0    0.0    0.0    0.0    0.0  \n4    0.0    0.0    0.0    0.0    0.0    0.0    1.0  \n9    0.0    1.0    0.0    0.0    0.0    0.0    0.0  \n\n[5 rows x 5012 columns]"
     },
     "execution_count": 5,
     "metadata": {},
     "output_type": "execute_result"
    }
   ],
   "source": [
    "path = \"train.json\"\n",
    "df = load_data_set(path)\n",
    "df = pre_processing(df)\n",
    "df.head()"
   ]
  },
  {
   "cell_type": "markdown",
   "metadata": {},
   "source": [
    "**Model Validation**"
   ]
  },
  {
   "cell_type": "code",
   "execution_count": 6,
   "metadata": {},
   "outputs": [],
   "source": [
    "# resampling techiques to address label imbalance\n",
    "\n",
    "def upsample_training(X_train, y_train):\n",
    "    \"\"\"\n",
    "    upsamples the minority class until class balance is achieved\n",
    "    \"\"\"\n",
    "    X = pd.concat([X_train, y_train], axis=1)\n",
    "    \n",
    "    \n",
    "    pos = X[X[\"label\"] == 1]\n",
    "    neg = X[X[\"label\"] == 0]\n",
    "    \n",
    "    pos_upsample = resample(pos, replace=True, n_samples=len(neg), random_state=RANDOM_STATE)\n",
    "    \n",
    "    resampled = pd.concat([neg, pos_upsample])\n",
    "\n",
    "    y_train = resampled[\"label\"]\n",
    "    X_train = resampled.drop([\"label\"], axis=1)\n",
    "    return X_train, y_train\n",
    "\n",
    "\n",
    "def downsample_training(X_train, y_train):\n",
    "    \"\"\"\n",
    "    downasamples majority class until class balance is achieved \n",
    "    \"\"\"\n",
    "    X = pd.concat([X_train, y_train], axis=1)\n",
    "    \n",
    "    \n",
    "    pos = X[X[\"label\"] == 1]\n",
    "    neg = X[X[\"label\"] == 0]\n",
    "    \n",
    "    neg_downsample = resample(neg, replace=True, n_samples=len(pos), random_state=RANDOM_STATE)\n",
    "    \n",
    "    resampled = pd.concat([pos, neg_downsample])\n",
    "\n",
    "    y_train = resampled[\"label\"]\n",
    "    X_train = resampled.drop([\"label\"], axis=1)\n",
    "    return X_train, y_train\n",
    "\n",
    "\n",
    "def resample_training(X_train, y_train):\n",
    "    \"\"\"\n",
    "    resamples class imbalance using SMOTE: \n",
    "    https://imbalanced-learn.org/stable/references/generated/imblearn.over_sampling.SMOTE.html\n",
    "    \"\"\"\n",
    "    sm = SMOTE(random_state=RANDOM_STATE)\n",
    "    X_train, y_train = sm.fit_resample(X_train, y_train)\n",
    "    return X_train, y_train\n",
    "    \n",
    "    "
   ]
  },
  {
   "cell_type": "code",
   "execution_count": 7,
   "metadata": {},
   "outputs": [],
   "source": [
    "def build_evaluate_classifier(author: int, df:pd.DataFrame):\n",
    "    \n",
    "    \n",
    "    # take copy and prepare label\n",
    "    df = df.copy(deep=True)\n",
    "    df[\"label\"] = df[\"target authors\"].apply(lambda x: 1 if author in x else 0)\n",
    "    X = df.drop([\"label\", \"target authors\"], axis=1)\n",
    "    y = df[\"label\"]\n",
    "    # split training and validation - we have fixed random state for reproducability\n",
    "    X_train, X_val, y_train, y_val = train_test_split(X, y, test_size=0.2, random_state=RANDOM_STATE)\n",
    "    \n",
    "    # upsample to deal with class imbalance\n",
    "    X_train, y_train = resample_training(X_train, y_train)\n",
    "    \n",
    "    # fit to model\n",
    "    clf = SGDClassifier()\n",
    "    clf.fit(X_train, y_train)\n",
    "    \n",
    "    # validatite model\n",
    "    y_pred = clf.predict(X_val)\n",
    "    f1 = f1_score(y_pred, y_val)\n",
    "    precision = precision_score(y_pred, y_val)\n",
    "    recall = recall_score(y_pred, y_val)\n",
    "    return f1, precision, recall"
   ]
  },
  {
   "cell_type": "code",
   "execution_count": 8,
   "metadata": {},
   "outputs": [],
   "source": [
    "def validate_csv(df: pd.DataFrame):\n",
    "    \"\"\"\n",
    "    As we are building 100 classifiers, printing f1 scores within a notebook is impractical. \n",
    "    following function writes results to csv. \n",
    "    \"\"\"\n",
    "    \n",
    "    with open(\"validation.csv\", mode='w') as f:    \n",
    "        writer = csv.writer(f)\n",
    "        \n",
    "        header = ['Author Id','F1 score']\n",
    "        writer.writerow(header)\n",
    "        \n",
    "        # loop over each author, build classifier and write to output\n",
    "        authors = np.arange(100)\n",
    "        \n",
    "        for author in tqdm(authors):\n",
    "            f1, precision, recall = build_evaluate_classifier(author, df)\n",
    "            writer.writerow([author, f1, precision, recall])\n",
    "    return"
   ]
  },
  {
   "cell_type": "code",
   "execution_count": 9,
   "metadata": {},
   "outputs": [],
   "source": [
    "def validate_to_csv(df: pd.DataFrame):\n",
    "    \"\"\"\n",
    "    As we are building 100 classifiers, printing f1 scores within a notebook is impractical. \n",
    "    following function writes results to csv. \n",
    "    \"\"\"\n",
    "    \n",
    "    with open(\"Results/Model2CountsSGDClassifier.csv\", mode='w') as f:    \n",
    "        writer = csv.writer(f)\n",
    "        \n",
    "        header = ['Author Id','F1 score', 'Precision', 'Recall']\n",
    "        writer.writerow(header)\n",
    "        \n",
    "        # loop over each author, build classifier and write to output\n",
    "        authors = np.arange(100)\n",
    "        avg_f1, avg_recall, avg_precision = 0, 0, 0\n",
    "        \n",
    "        for author in tqdm(authors):\n",
    "            f1, precision, recall = build_evaluate_classifier(author, df)\n",
    "            writer.writerow([author, f1, precision, recall])\n",
    "            avg_f1 += f1\n",
    "            avg_precision += precision\n",
    "            avg_recall += recall \n",
    "        writer.writerow([\"averages\", avg_f1/100, avg_precision/100, avg_recall/100])\n",
    "    print(f\"average f1:        {avg_f1/100}\")\n",
    "    print(f\"average recall:    {avg_recall/100}\")\n",
    "    print(f\"average precision: {avg_precision/100}\")\n",
    "    return"
   ]
  },
  {
   "cell_type": "code",
   "execution_count": 10,
   "metadata": {},
   "outputs": [
    {
     "name": "stderr",
     "output_type": "stream",
     "text": [
      "100%|██████████| 100/100 [12:25<00:00,  7.46s/it]"
     ]
    },
    {
     "name": "stdout",
     "output_type": "stream",
     "text": [
      "average f1:        0.18379578064077223\n",
      "average recall:    0.1622183673152102\n",
      "average precision: 0.2536008177131528\n"
     ]
    },
    {
     "name": "stderr",
     "output_type": "stream",
     "text": [
      "\n"
     ]
    }
   ],
   "source": [
    "# perform model validation checking\n",
    "validate_to_csv(df)"
   ]
  },
  {
   "cell_type": "markdown",
   "metadata": {},
   "source": [
    "**Training**"
   ]
  },
  {
   "cell_type": "code",
   "execution_count": 11,
   "metadata": {},
   "outputs": [],
   "source": [
    "# training\n",
    "def train_classifier(author: int, df: pd.DataFrame, debug=False):\n",
    "    \"\"\"\n",
    "    Trains a classifier for author i. Assumes text-vectorisaiton has occured.\n",
    "    \n",
    "    Model Features:\n",
    "    text vectorisation\n",
    "    \"\"\"\n",
    "    df = df.copy(deep=True)\n",
    "    df[\"label\"] = df[\"target authors\"].apply(lambda x: 1 if author in x else 0)\n",
    "    X_train = df.drop([\"label\", \"target authors\"], axis=1)\n",
    "    y_train = df[\"label\"]\n",
    "    \n",
    "    # upsample to deal with class imbalance\n",
    "    X_train, y_train = upsample_training(X_train, y_train)\n",
    "    \n",
    "    # fit to model\n",
    "    clf = SGDClassifier()\n",
    "    clf.fit(X_train, y_train)\n",
    "    \n",
    "\n",
    "    return clf"
   ]
  },
  {
   "cell_type": "code",
   "execution_count": 12,
   "metadata": {},
   "outputs": [
    {
     "name": "stdout",
     "output_type": "stream",
     "text": [
      "loaded 25793 instances\n"
     ]
    }
   ],
   "source": [
    "path = \"train.json\"\n",
    "df = load_data_set(path)\n",
    "df = pre_processing(df)"
   ]
  },
  {
   "cell_type": "code",
   "execution_count": 13,
   "metadata": {},
   "outputs": [],
   "source": [
    "#df.head()"
   ]
  },
  {
   "cell_type": "code",
   "execution_count": 14,
   "metadata": {},
   "outputs": [
    {
     "name": "stderr",
     "output_type": "stream",
     "text": [
      "100%|██████████| 100/100 [08:30<00:00,  5.11s/it]\n"
     ]
    }
   ],
   "source": [
    "# build classifiers for each author\n",
    "authors = np.arange(0, 100)\n",
    "models  = []\n",
    "for i in tqdm(authors):\n",
    "    model = train_classifier(i, df)\n",
    "    models.append(model) "
   ]
  },
  {
   "cell_type": "markdown",
   "metadata": {},
   "source": [
    "**Build Predictions**"
   ]
  },
  {
   "cell_type": "code",
   "execution_count": 15,
   "metadata": {},
   "outputs": [
    {
     "name": "stdout",
     "output_type": "stream",
     "text": [
      "loaded 800 instances\n"
     ]
    }
   ],
   "source": [
    "# load in test data\n",
    "path = \"test.json\"\n",
    "df_test = load_data_set(path)\n",
    "df_test = pre_processing(df_test, train=False)"
   ]
  },
  {
   "cell_type": "code",
   "execution_count": 16,
   "metadata": {},
   "outputs": [],
   "source": [
    "#df_test.head()"
   ]
  },
  {
   "cell_type": "code",
   "execution_count": 17,
   "metadata": {},
   "outputs": [],
   "source": [
    "def make_predictions(test_df: pd.DataFrame):\n",
    "    \"\"\"\n",
    "    function for writing predictions to output file. \n",
    "    WARNING: Deletes predictions.csv if present in working directory\n",
    "    \"\"\"\n",
    "    if os.path.exists(\"predictionsModel2SGDClassifier.csv\"):\n",
    "        os.remove(\"predictionsModel2SGDClassifier.csv\")\n",
    "        print(\"removed previous predictions\")\n",
    "    \n",
    "    \n",
    "    with open(\"predictionsModel2SGDClassifier.csv\", mode='w') as f:    \n",
    "        writer = csv.writer(f)\n",
    "        \n",
    "        header = ['Id','Predict']\n",
    "        writer.writerow(header)\n",
    "        \n",
    "        \n",
    "        X_test = test_df\n",
    "        n      = X_test.shape[0]\n",
    "        \n",
    "        # loop over each training sample and write to necessary format\n",
    "        for Id in tqdm(range(n)):\n",
    "            #x   = np.array(X_test.iloc[Id]).reshape(1, -1)\n",
    "            x   = test_df.iloc[Id].to_frame().T\n",
    "            authors = \"\"\n",
    "            for author, model in enumerate(models):\n",
    "                if np.array(model.predict(x)).item() == 1:\n",
    "                    authors += str(author) + \" \"\n",
    "\n",
    "            # to match the output requirement \n",
    "            if len(authors) == 0: row = [Id, -1]\n",
    "            else: row = [Id, authors]\n",
    "\n",
    "            writer.writerow(row)\n",
    "    return"
   ]
  },
  {
   "cell_type": "code",
   "execution_count": 19,
   "metadata": {},
   "outputs": [
    {
     "name": "stdout",
     "output_type": "stream",
     "text": [
      "removed previous predictions\n"
     ]
    },
    {
     "name": "stderr",
     "output_type": "stream",
     "text": [
      "100%|██████████| 800/800 [37:21<00:00,  2.80s/it]\n"
     ]
    }
   ],
   "source": [
    "make_predictions(df_test)"
   ]
  },
  {
   "cell_type": "code",
   "execution_count": null,
   "metadata": {},
   "outputs": [],
   "source": []
  }
 ],
 "metadata": {
  "kernelspec": {
   "display_name": "Python 3.8.12 64-bit ('base': conda)",
   "name": "python3812jvsc74a57bd0e245b9d4d52625933425f13c940396e11f2ad0cf135519173d3aca2cac5d4603"
  },
  "language_info": {
   "codemirror_mode": {
    "name": "ipython",
    "version": 3
   },
   "file_extension": ".py",
   "mimetype": "text/x-python",
   "name": "python",
   "nbconvert_exporter": "python",
   "pygments_lexer": "ipython3",
   "version": "3.8.12"
  }
 },
 "nbformat": 4,
 "nbformat_minor": 5
}