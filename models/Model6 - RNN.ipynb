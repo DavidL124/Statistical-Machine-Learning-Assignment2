{
 "cells": [
  {
   "cell_type": "markdown",
   "id": "aef6d62d",
   "metadata": {},
   "source": [
    "Contains code for Model6, which uses an RNN"
   ]
  },
  {
   "cell_type": "code",
   "execution_count": 252,
   "id": "2f2c5d43",
   "metadata": {},
   "outputs": [],
   "source": [
    "import json\n",
    "import numpy as np\n",
    "import pandas as pd\n",
    "import torch\n",
    "import torch.nn as nn\n",
    "import matplotlib.pyplot as plt\n",
    "from tqdm import tqdm\n",
    "from sklearn.metrics import accuracy_score, f1_score, precision_score, recall_score\n",
    "from sklearn.model_selection import train_test_split\n",
    "from sklearn.utils import resample\n",
    "from imblearn.over_sampling import SMOTE\n",
    "from typing import List\n",
    "\n",
    "NUM_WORDS = 5000\n",
    "NUM_AUTHORS = 21246\n",
    "MAX_LEN = 491"
   ]
  },
  {
   "cell_type": "code",
   "execution_count": 253,
   "id": "f80d641a",
   "metadata": {},
   "outputs": [],
   "source": [
    "def load_data_set(path: str):\n",
    "    \"\"\"\n",
    "    loads data set located at path and returns as pandas data frame\n",
    "    \"\"\"\n",
    "    with open(path) as file:\n",
    "        data = json.load(file)\n",
    "    \n",
    "    print(f\"loaded {len(data)} instances\")\n",
    "    data = pd.json_normalize(data)\n",
    "    return data"
   ]
  },
  {
   "cell_type": "code",
   "execution_count": 254,
   "id": "638ac4d8",
   "metadata": {},
   "outputs": [
    {
     "name": "stdout",
     "output_type": "stream",
     "text": [
      "loaded 25793 instances\n"
     ]
    },
    {
     "data": {
      "text/html": [
       "<div>\n",
       "<style scoped>\n",
       "    .dataframe tbody tr th:only-of-type {\n",
       "        vertical-align: middle;\n",
       "    }\n",
       "\n",
       "    .dataframe tbody tr th {\n",
       "        vertical-align: top;\n",
       "    }\n",
       "\n",
       "    .dataframe thead th {\n",
       "        text-align: right;\n",
       "    }\n",
       "</style>\n",
       "<table border=\"1\" class=\"dataframe\">\n",
       "  <thead>\n",
       "    <tr style=\"text-align: right;\">\n",
       "      <th></th>\n",
       "      <th>authors</th>\n",
       "      <th>year</th>\n",
       "      <th>abstract</th>\n",
       "      <th>venue</th>\n",
       "      <th>title</th>\n",
       "    </tr>\n",
       "  </thead>\n",
       "  <tbody>\n",
       "    <tr>\n",
       "      <th>0</th>\n",
       "      <td>[42, 13720, 36]</td>\n",
       "      <td>9</td>\n",
       "      <td>[2455, 1858, 2335, 1543, 1800, 1860, 2000, 286...</td>\n",
       "      <td>20</td>\n",
       "      <td>[41, 1550, 1563, 1594, 1544, 1919, 1644, 37, 1...</td>\n",
       "    </tr>\n",
       "    <tr>\n",
       "      <th>1</th>\n",
       "      <td>[1359, 15881, 45]</td>\n",
       "      <td>15</td>\n",
       "      <td>[40, 1542, 1691, 2449, 1535, 3616, 2206, 1904,...</td>\n",
       "      <td>2</td>\n",
       "      <td>[1731, 47, 11, 57, 4624, 1525, 1535, 47, 11, 3...</td>\n",
       "    </tr>\n",
       "    <tr>\n",
       "      <th>2</th>\n",
       "      <td>[19166, 17763]</td>\n",
       "      <td>17</td>\n",
       "      <td>[40, 1542, 1691, 2449, 1535, 2610, 1543, 1535,...</td>\n",
       "      <td></td>\n",
       "      <td>[2085, 1719, 1846, 1745, 2243, 1553, 1606, 159...</td>\n",
       "    </tr>\n",
       "    <tr>\n",
       "      <th>3</th>\n",
       "      <td>[97]</td>\n",
       "      <td>10</td>\n",
       "      <td>[46, 1624, 1547, 56, 1687, 1644, 6, 7, 3386, 1...</td>\n",
       "      <td>4</td>\n",
       "      <td>[40, 1733, 1735, 1540, 1655, 46, 1624, 1547, 5...</td>\n",
       "    </tr>\n",
       "    <tr>\n",
       "      <th>4</th>\n",
       "      <td>[19617, 2]</td>\n",
       "      <td>10</td>\n",
       "      <td>[37, 3709, 3836, 1586, 2151, 1727, 3021, 1860,...</td>\n",
       "      <td>9</td>\n",
       "      <td>[38, 1592, 2088, 1543, 1574, 1727, 1597, 1813,...</td>\n",
       "    </tr>\n",
       "  </tbody>\n",
       "</table>\n",
       "</div>"
      ],
      "text/plain": [
       "             authors  year                                           abstract  \\\n",
       "0    [42, 13720, 36]     9  [2455, 1858, 2335, 1543, 1800, 1860, 2000, 286...   \n",
       "1  [1359, 15881, 45]    15  [40, 1542, 1691, 2449, 1535, 3616, 2206, 1904,...   \n",
       "2     [19166, 17763]    17  [40, 1542, 1691, 2449, 1535, 2610, 1543, 1535,...   \n",
       "3               [97]    10  [46, 1624, 1547, 56, 1687, 1644, 6, 7, 3386, 1...   \n",
       "4         [19617, 2]    10  [37, 3709, 3836, 1586, 2151, 1727, 3021, 1860,...   \n",
       "\n",
       "  venue                                              title  \n",
       "0    20  [41, 1550, 1563, 1594, 1544, 1919, 1644, 37, 1...  \n",
       "1     2  [1731, 47, 11, 57, 4624, 1525, 1535, 47, 11, 3...  \n",
       "2        [2085, 1719, 1846, 1745, 2243, 1553, 1606, 159...  \n",
       "3     4  [40, 1733, 1735, 1540, 1655, 46, 1624, 1547, 5...  \n",
       "4     9  [38, 1592, 2088, 1543, 1574, 1727, 1597, 1813,...  "
      ]
     },
     "execution_count": 254,
     "metadata": {},
     "output_type": "execute_result"
    }
   ],
   "source": [
    "path = \"../data/train.json\"\n",
    "train = load_data_set(path)\n",
    "train.head()"
   ]
  },
  {
   "cell_type": "markdown",
   "id": "15f00441",
   "metadata": {},
   "source": [
    "## Preprocessing\n",
    "\n",
    "\n",
    "first we efficiently perform the text-transformation using pandas. Once completed, we can get into necessary format for training with `pytorch`, which is a dictionary with keys as labels, and list of examples"
   ]
  },
  {
   "cell_type": "code",
   "execution_count": 255,
   "id": "45f050bd",
   "metadata": {},
   "outputs": [],
   "source": [
    "def preprocess(df: pd.DataFrame, train=True, drop_samples=False):\n",
    "    \n",
    "    df = df.copy(deep=True)\n",
    "   \n",
    "    if train:\n",
    "        df[\"target authors\"] = df[\"authors\"].apply(lambda x: filter_authors(x))\n",
    "        df[\"coauthors\"]      = df[\"authors\"].apply(lambda x: filter_authors(x, prolifics=False))\n",
    "        df = df.drop([\"authors\"], axis=1)\n",
    "    \n",
    "    # drops samples containing no prolific authors, Reduces training set by ~60% to 7000 samples\n",
    "    if drop_samples:\n",
    "        df[\"has target\"] = df[\"target authors\"].apply(lambda x: len(x)>0)\n",
    "        df = df[df[\"has target\"] == True]\n",
    "        df = df.drop([\"has target\"], axis=1)\n",
    "        \n",
    "    # text transormation\n",
    "    df[\"text\"] = df[\"title\"] + df[\"abstract\"]\n",
    "    \n",
    "    # drop unnecessarily long examples\n",
    "    if train:\n",
    "        df[\"len\"] = df[\"text\"].apply(lambda x: len(x))\n",
    "        df = df[df[\"len\"]<=200]\n",
    "\n",
    "    # drop\n",
    "    df = df.drop([\"abstract\", \"title\", \"year\", \"coauthors\", \"venue\", \"len\"], axis=1)\n",
    "    return df"
   ]
  },
  {
   "cell_type": "code",
   "execution_count": 256,
   "id": "ca1dbb9d",
   "metadata": {},
   "outputs": [],
   "source": [
    "# feature transformation\n",
    "\n",
    "def filter_authors(authors: List[int], prolifics=True):\n",
    "    \"\"\"\n",
    "    filters authors between prolific and coauthors\n",
    "    \"\"\"\n",
    "    if prolifics:\n",
    "        prolifics = filter(lambda x: x < 100, authors)\n",
    "        return list(prolifics)\n",
    "    else:\n",
    "        coauthors = filter(lambda x: x>=100, authors)\n",
    "        return list(coauthors)"
   ]
  },
  {
   "cell_type": "code",
   "execution_count": 257,
   "id": "0427b4e0",
   "metadata": {},
   "outputs": [
    {
     "data": {
      "text/html": [
       "<div>\n",
       "<style scoped>\n",
       "    .dataframe tbody tr th:only-of-type {\n",
       "        vertical-align: middle;\n",
       "    }\n",
       "\n",
       "    .dataframe tbody tr th {\n",
       "        vertical-align: top;\n",
       "    }\n",
       "\n",
       "    .dataframe thead th {\n",
       "        text-align: right;\n",
       "    }\n",
       "</style>\n",
       "<table border=\"1\" class=\"dataframe\">\n",
       "  <thead>\n",
       "    <tr style=\"text-align: right;\">\n",
       "      <th></th>\n",
       "      <th>target authors</th>\n",
       "      <th>text</th>\n",
       "    </tr>\n",
       "  </thead>\n",
       "  <tbody>\n",
       "    <tr>\n",
       "      <th>0</th>\n",
       "      <td>[42, 36]</td>\n",
       "      <td>[41, 1550, 1563, 1594, 1544, 1919, 1644, 37, 1...</td>\n",
       "    </tr>\n",
       "    <tr>\n",
       "      <th>1</th>\n",
       "      <td>[45]</td>\n",
       "      <td>[1731, 47, 11, 57, 4624, 1525, 1535, 47, 11, 3...</td>\n",
       "    </tr>\n",
       "    <tr>\n",
       "      <th>3</th>\n",
       "      <td>[97]</td>\n",
       "      <td>[40, 1733, 1735, 1540, 1655, 46, 1624, 1547, 5...</td>\n",
       "    </tr>\n",
       "    <tr>\n",
       "      <th>4</th>\n",
       "      <td>[2]</td>\n",
       "      <td>[38, 1592, 2088, 1543, 1574, 1727, 1597, 1813,...</td>\n",
       "    </tr>\n",
       "    <tr>\n",
       "      <th>9</th>\n",
       "      <td>[44, 2]</td>\n",
       "      <td>[1560, 1694, 11, 1546, 11, 3066, 1728, 47, 160...</td>\n",
       "    </tr>\n",
       "  </tbody>\n",
       "</table>\n",
       "</div>"
      ],
      "text/plain": [
       "  target authors                                               text\n",
       "0       [42, 36]  [41, 1550, 1563, 1594, 1544, 1919, 1644, 37, 1...\n",
       "1           [45]  [1731, 47, 11, 57, 4624, 1525, 1535, 47, 11, 3...\n",
       "3           [97]  [40, 1733, 1735, 1540, 1655, 46, 1624, 1547, 5...\n",
       "4            [2]  [38, 1592, 2088, 1543, 1574, 1727, 1597, 1813,...\n",
       "9        [44, 2]  [1560, 1694, 11, 1546, 11, 3066, 1728, 47, 160..."
      ]
     },
     "execution_count": 257,
     "metadata": {},
     "output_type": "execute_result"
    }
   ],
   "source": [
    "df = preprocess(train, drop_samples=True)\n",
    "df.head()"
   ]
  },
  {
   "cell_type": "code",
   "execution_count": 258,
   "id": "d716f518",
   "metadata": {},
   "outputs": [
    {
     "data": {
      "text/plain": [
       "(5339, 2)"
      ]
     },
     "execution_count": 258,
     "metadata": {},
     "output_type": "execute_result"
    }
   ],
   "source": [
    "df.shape"
   ]
  },
  {
   "cell_type": "code",
   "execution_count": 259,
   "id": "54b18393",
   "metadata": {},
   "outputs": [],
   "source": [
    "def training_eval_split(author: int, df: pd.DataFrame, resampling=None):\n",
    "    df = df.copy(deep=True)\n",
    "    df[\"label\"] = df[\"target authors\"].apply(lambda x: 1 if author in x else 0)\n",
    "    \n",
    "    X, y = df[\"text\"], df[\"label\"]\n",
    "    X_train, X_val, y_train, y_val = train_test_split(X, y, test_size=0.3, random_state=42069)\n",
    "    \n",
    "    if resampling:\n",
    "        X_train, y_train = resampling(X_train, y_train)\n",
    "    \n",
    "    train = pd.concat([X_train, y_train], axis=1)\n",
    "    val   = pd.concat([X_val, y_val], axis=1)\n",
    "    return train, val"
   ]
  },
  {
   "cell_type": "code",
   "execution_count": 260,
   "id": "e9963a4b",
   "metadata": {},
   "outputs": [],
   "source": [
    "def torch_preprocessing(df:pd.DataFrame):\n",
    "    # converts author data frame to dictionary format for pytorch\n",
    "    categories = {}\n",
    "    categories[1] = df.loc[df['label'] == 1, 'text'].tolist()\n",
    "    categories[0] = df.loc[df['label'] == 0, 'text'].tolist()\n",
    "    return categories"
   ]
  },
  {
   "cell_type": "code",
   "execution_count": 261,
   "id": "f92d8e05",
   "metadata": {},
   "outputs": [],
   "source": [
    "# we test results for a single author\n",
    "test_author = 10\n",
    "train, val = training_eval_split(test_author, df)"
   ]
  },
  {
   "cell_type": "code",
   "execution_count": 262,
   "id": "a93dbc26",
   "metadata": {},
   "outputs": [
    {
     "data": {
      "text/plain": [
       "0    3644\n",
       "1      93\n",
       "Name: label, dtype: int64"
      ]
     },
     "execution_count": 262,
     "metadata": {},
     "output_type": "execute_result"
    }
   ],
   "source": [
    "train[\"label\"].value_counts()"
   ]
  },
  {
   "cell_type": "code",
   "execution_count": 263,
   "id": "08de6bd0",
   "metadata": {},
   "outputs": [
    {
     "data": {
      "text/plain": [
       "0    1570\n",
       "1      32\n",
       "Name: label, dtype: int64"
      ]
     },
     "execution_count": 263,
     "metadata": {},
     "output_type": "execute_result"
    }
   ],
   "source": [
    "val[\"label\"].value_counts()"
   ]
  },
  {
   "cell_type": "code",
   "execution_count": 264,
   "id": "96c8cbfe",
   "metadata": {},
   "outputs": [],
   "source": [
    "train_samples = torch_preprocessing(train)\n",
    "val_samples   = torch_preprocessing(val)"
   ]
  },
  {
   "cell_type": "markdown",
   "id": "b11202b8",
   "metadata": {},
   "source": [
    "## Model"
   ]
  },
  {
   "cell_type": "code",
   "execution_count": 287,
   "id": "a95770c8",
   "metadata": {},
   "outputs": [],
   "source": [
    "# torch.manual_seed(RANDOM_STATE)\n",
    "\n",
    "NUM_EPOCHS = 10\n",
    "NUM_ITERS  = 15000\n",
    "BATCH_SIZE = 64\n",
    "DEVICE     = torch.device('cuda:1' if torch.cuda.is_available() else 'cpu')\n",
    "\n",
    "LEARNING_RATE = 0.001\n",
    "EMBEDDING_DIM = 64\n",
    "HIDDEN_DIM    = 32\n",
    "NUM_CLASSES   = 2\n",
    "CLASSES = [0, 1]\n",
    "\n",
    "PLOT_EVERY  = 500"
   ]
  },
  {
   "cell_type": "code",
   "execution_count": 288,
   "id": "f61077bb",
   "metadata": {},
   "outputs": [],
   "source": [
    "class RNNClassifier(nn.Module):\n",
    "    def __init__(self, input_size, hidden_size, output_size):\n",
    "        super(RNNClassifier, self).__init__()\n",
    "        self.hidden_size = hidden_size\n",
    "        self.i2h = nn.Linear(input_size + hidden_size, hidden_size)\n",
    "        self.h2o = nn.Linear(hidden_size, output_size) # changed input\n",
    "        self.activation = nn.ReLU()\n",
    "        self.softmax = nn.LogSoftmax(dim=1)\n",
    "        \n",
    "        \n",
    "    def forward(self, input, hidden):\n",
    "        combined = torch.cat((input, hidden), 1)\n",
    "        hidden = self.activation(self.i2h(combined)) # changed to use activation\n",
    "        output = self.h2o(hidden) # changed input\n",
    "        output = self.softmax(output)\n",
    "        return output, hidden\n",
    "    def initHidden(self):\n",
    "        return torch.zeros(1, self.hidden_size)"
   ]
  },
  {
   "cell_type": "code",
   "execution_count": 289,
   "id": "fba94170",
   "metadata": {},
   "outputs": [],
   "source": [
    "# convert to OHE tensors\n",
    "def textToTensor(text):\n",
    "    tensor = torch.zeros(len(text), 1, NUM_WORDS)\n",
    "    for wi, word in enumerate(text):\n",
    "        tensor[wi][0][word] = 1\n",
    "    return tensor"
   ]
  },
  {
   "cell_type": "code",
   "execution_count": 290,
   "id": "50aa0707",
   "metadata": {},
   "outputs": [],
   "source": [
    "# test a sample instance that the model is feeding correctly \n",
    "test = np.random.randint(5000, size=50)\n",
    "test = textToTensor(test)\n",
    "hidden = torch.zeros(1, HIDDEN_DIM)"
   ]
  },
  {
   "cell_type": "code",
   "execution_count": 291,
   "id": "c6e7e886",
   "metadata": {},
   "outputs": [
    {
     "name": "stdout",
     "output_type": "stream",
     "text": [
      "tensor([[-0.6902, -0.6961]], grad_fn=<LogSoftmaxBackward>)\n"
     ]
    }
   ],
   "source": [
    "output, next_input = rnn(test[0], hidden)\n",
    "print(output)"
   ]
  },
  {
   "cell_type": "markdown",
   "id": "0d5f9769",
   "metadata": {},
   "source": [
    "### Training\n",
    "\n",
    "We now perform training for this specific `test_author` and print training loss to confirm that the model is learning "
   ]
  },
  {
   "cell_type": "code",
   "execution_count": 292,
   "id": "491eabae",
   "metadata": {},
   "outputs": [],
   "source": [
    "import random\n",
    "\n",
    "def categoryFromOutput(output):\n",
    "    top_n, top_i = output.topk(1)\n",
    "    category_i = top_i[0].item()\n",
    "    return CLASSES[category_i], category_i\n",
    "\n",
    "\n",
    "def randomChoice(l):\n",
    "    return l[random.randint(0, len(l)-1)]\n",
    "\n",
    "\n",
    "def randomTrainingSample(samples: dict):\n",
    "    label = randomChoice(CLASSES)\n",
    "    sample = randomChoice(samples[label])\n",
    "    label_tensor  = torch.tensor([label])\n",
    "    sample_tensor = textToTensor(sample) \n",
    "    return label, sample, label_tensor, sample_tensor"
   ]
  },
  {
   "cell_type": "code",
   "execution_count": 293,
   "id": "86140df6",
   "metadata": {},
   "outputs": [
    {
     "name": "stdout",
     "output_type": "stream",
     "text": [
      "category = 1 / line = [53, 1584, 2135, 1784]\n",
      "category = 0 / line = [1564, 1661, 2193, 1745]\n",
      "category = 0 / line = [2600, 3057, 1578, 1528]\n"
     ]
    }
   ],
   "source": [
    "for i in range(3):\n",
    "    category, line, category_tensor, line_tensor = randomTrainingSample(train_samples)\n",
    "    print('category =', category, '/ line =', line[:4])\n",
    "    # print(line_tensor)"
   ]
  },
  {
   "cell_type": "code",
   "execution_count": null,
   "id": "27658d26",
   "metadata": {},
   "outputs": [
    {
     "name": "stdout",
     "output_type": "stream",
     "text": [
      "500 3% (0m 12s) 0.7382 1 / ✗ (0)\n",
      "1000 6% (0m 25s) 0.7137 1 / ✗ (0)\n",
      "1500 10% (0m 37s) 0.7273 1 / ✗ (0)\n",
      "2000 13% (0m 50s) 0.6612 1 / ✓\n",
      "2500 16% (1m 3s) 0.6809 1 / ✓\n",
      "3000 20% (1m 16s) 0.7139 1 / ✗ (0)\n",
      "3500 23% (1m 28s) 0.6758 1 / ✓\n",
      "4000 26% (1m 41s) 0.6736 1 / ✓\n",
      "4500 30% (1m 54s) 0.7067 1 / ✗ (0)\n",
      "5000 33% (2m 6s) 0.6618 1 / ✓\n",
      "5500 36% (2m 19s) 0.7174 1 / ✗ (0)\n",
      "6000 40% (2m 32s) 0.7100 1 / ✗ (0)\n",
      "6500 43% (2m 45s) 0.6775 1 / ✓\n",
      "7000 46% (2m 59s) 0.6912 0 / ✓\n",
      "7500 50% (3m 13s) 0.6997 0 / ✗ (1)\n",
      "8000 53% (3m 26s) 0.6893 0 / ✓\n",
      "8500 56% (3m 39s) 0.7084 0 / ✗ (1)\n",
      "9000 60% (3m 52s) 0.6742 0 / ✓\n",
      "9500 63% (4m 7s) 0.6739 0 / ✓\n",
      "10000 66% (4m 22s) 0.6981 0 / ✗ (1)\n",
      "10500 70% (4m 36s) 0.6873 1 / ✓\n",
      "11000 73% (4m 50s) 0.7053 0 / ✗ (1)\n",
      "11500 76% (5m 4s) 0.6883 0 / ✓\n",
      "12000 80% (5m 18s) 0.7082 0 / ✗ (1)\n",
      "12500 83% (5m 33s) 0.6789 0 / ✓\n"
     ]
    }
   ],
   "source": [
    "import time\n",
    "import math\n",
    "\n",
    "\n",
    "current_loss = 0\n",
    "all_losses = []\n",
    "\n",
    "rnn = RNNClassifier(NUM_WORDS, HIDDEN_DIM, NUM_CLASSES)\n",
    "criterion = nn.CrossEntropyLoss()\n",
    "\n",
    "def timeSince(since):\n",
    "    now = time.time()\n",
    "    s = now - since\n",
    "    m = math.floor(s / 60)\n",
    "    s -= m * 60\n",
    "    return '%dm %ds' % (m, s)\n",
    "start = time.time()\n",
    "\n",
    "# training algorithm, which takes one instance and performs single SGD update\n",
    "def train(category_tensor, line_tensor):\n",
    "    hidden = rnn.initHidden()\n",
    "    rnn.zero_grad()\n",
    "    # key step: unroll the RNN over each symbol in the input sequence\n",
    "    for i in range(line_tensor.size()[0]):\n",
    "        output, hidden = rnn(line_tensor[i], hidden)\n",
    "    # treat the last output as the prediction of the category label\n",
    "    loss = criterion(output, category_tensor)\n",
    "    loss.backward()\n",
    "\n",
    "    # Add parameters' gradients to their values, multiplied by learning rate\n",
    "    for p in rnn.parameters():\n",
    "        p.data.add_(p.grad.data, alpha=-LEARNING_RATE)\n",
    "    return output, loss.item()\n",
    "\n",
    "for iter in range(1, NUM_ITERS + 1):\n",
    "    category, line, category_tensor, line_tensor = randomTrainingSample(train_samples)\n",
    "    output, loss = train(category_tensor, line_tensor)\n",
    "    current_loss += loss\n",
    "\n",
    "    # Print iter number, loss, name and guess\n",
    "    if iter % PLOT_EVERY == 0:\n",
    "        guess, guess_i = categoryFromOutput(output)\n",
    "        correct = '✓' if guess == category else '✗ (%s)' % category\n",
    "        print('%d %d%% (%s) %.4f %s / %s' % (iter, iter / NUM_ITERS * 100, timeSince(start), loss, guess, correct))\n",
    "\n",
    "    # Add current loss avg to list of losses\n",
    "    if iter % PLOT_EVERY == 0:\n",
    "        all_losses.append(current_loss / PLOT_EVERY)\n",
    "        current_loss = 0"
   ]
  },
  {
   "cell_type": "code",
   "execution_count": null,
   "id": "1b44084b",
   "metadata": {},
   "outputs": [],
   "source": [
    "plt.figure()\n",
    "plt.xlabel('Iterations')\n",
    "plt.ylabel('Loss (Train)')\n",
    "plt.plot(range(0,NUM_ITERS,PLOT_EVERY),all_losses)"
   ]
  },
  {
   "cell_type": "markdown",
   "id": "1c70e21f",
   "metadata": {},
   "source": [
    "## Evaluation\n",
    "\n",
    "we now evaluate the trained models performance on the validation set"
   ]
  },
  {
   "cell_type": "code",
   "execution_count": 248,
   "id": "d3a01cc3",
   "metadata": {},
   "outputs": [],
   "source": [
    "def prediction(sample_tensor):\n",
    "    if type(sample_tensor) == list: \n",
    "        sample_tensor = textToTensor(sample_tensor)\n",
    "        \n",
    "    hidden = rnn.initHidden()\n",
    "    \n",
    "    for i in range(sample_tensor.size()[0]):\n",
    "        output, hidden = rnn(sample_tensor[i], hidden)\n",
    "    \n",
    "    classification = torch.argmax(output).item()\n",
    "    return classification"
   ]
  },
  {
   "cell_type": "code",
   "execution_count": 249,
   "id": "51252f71",
   "metadata": {},
   "outputs": [],
   "source": [
    "def evaluate_model(validation_samples):\n",
    "    # performs model validation using validation samples\n",
    "    \n",
    "    pos, neg  = validation_samples[1], validation_samples[0]\n",
    "    samples   = pos+neg\n",
    "    n_samples = len(samples)\n",
    "    labels    = np.concatenate([np.ones(len(pos)), np.zeros(len(neg))])\n",
    "    preds     = np.zeros(n_samples)\n",
    "    \n",
    "    for i in tqdm(range(n_samples)):\n",
    "        sample = samples[i]\n",
    "        pred   = prediction(sample)\n",
    "        preds[i]  = pred\n",
    "    \n",
    "    print(f\"f1 : {f1_score(labels, preds)}\")\n",
    "    print(f\"recall : {recall_score(labels, preds)}\")\n",
    "    print(f\"precision: {precision_score(labels, preds)}\")\n",
    "    return"
   ]
  },
  {
   "cell_type": "code",
   "execution_count": 250,
   "id": "d8e1b650",
   "metadata": {},
   "outputs": [
    {
     "name": "stderr",
     "output_type": "stream",
     "text": [
      "100%|██████████| 2207/2207 [00:25<00:00, 86.40it/s] "
     ]
    },
    {
     "name": "stdout",
     "output_type": "stream",
     "text": [
      "f1 : 0.04128440366972477\n",
      "recall : 0.9782608695652174\n",
      "precision: 0.021087160262417994\n"
     ]
    },
    {
     "name": "stderr",
     "output_type": "stream",
     "text": [
      "\n"
     ]
    }
   ],
   "source": [
    "evaluate_model(val_samples)"
   ]
  },
  {
   "cell_type": "code",
   "execution_count": null,
   "id": "2abafb16",
   "metadata": {},
   "outputs": [],
   "source": []
  },
  {
   "cell_type": "code",
   "execution_count": null,
   "id": "2fc25ce9",
   "metadata": {},
   "outputs": [],
   "source": []
  },
  {
   "cell_type": "code",
   "execution_count": null,
   "id": "9efefe29",
   "metadata": {},
   "outputs": [],
   "source": []
  },
  {
   "cell_type": "code",
   "execution_count": null,
   "id": "e8685e57",
   "metadata": {},
   "outputs": [],
   "source": []
  },
  {
   "cell_type": "code",
   "execution_count": null,
   "id": "48f6d936",
   "metadata": {},
   "outputs": [],
   "source": []
  },
  {
   "cell_type": "code",
   "execution_count": null,
   "id": "b2b93086",
   "metadata": {},
   "outputs": [],
   "source": []
  },
  {
   "cell_type": "markdown",
   "id": "e3d184e2",
   "metadata": {},
   "source": [
    "**Training - Test Split & Resampling**\n",
    "\n",
    "as we are building 100 classifiers, one for each author `0, ..., 99` we use the following function to build data sets for each author."
   ]
  },
  {
   "cell_type": "code",
   "execution_count": 11,
   "id": "01c8c388",
   "metadata": {},
   "outputs": [],
   "source": [
    "RANDOM_STATE = 42069\n",
    "\n",
    "def upsample_training(X_train, y_train):\n",
    "    \"\"\"\n",
    "    upsamples the minority class until class balance is achieved\n",
    "    \"\"\"\n",
    "    X = pd.concat([X_train, y_train], axis=1)\n",
    "    \n",
    "    \n",
    "    pos = X[X[\"label\"] == 1]\n",
    "    neg = X[X[\"label\"] == 0]\n",
    "    \n",
    "    pos_upsample = resample(pos, replace=True, n_samples=len(neg), random_state=RANDOM_STATE)\n",
    "    \n",
    "    resampled = pd.concat([neg, pos_upsample])\n",
    "\n",
    "    y_train = resampled[\"label\"]\n",
    "    X_train = resampled.drop([\"label\"], axis=1)\n",
    "    return X_train, y_train\n",
    "\n",
    "\n",
    "def downsample_training(X_train, y_train):\n",
    "    \"\"\"\n",
    "    downasamples majority class until class balance is achieved \n",
    "    \"\"\"\n",
    "    X = pd.concat([X_train, y_train], axis=1)\n",
    "    \n",
    "    \n",
    "    pos = X[X[\"label\"] == 1]\n",
    "    neg = X[X[\"label\"] == 0]\n",
    "    \n",
    "    neg_downsample = resample(neg, replace=True, n_samples=len(pos), random_state=RANDOM_STATE)\n",
    "    \n",
    "    resampled = pd.concat([pos, neg_downsample])\n",
    "\n",
    "    y_train = resampled[\"label\"]\n",
    "    X_train = resampled.drop([\"label\"], axis=1)\n",
    "    return X_train, y_train\n",
    "\n",
    "\n",
    "def resample_training(X_train, y_train):\n",
    "    \"\"\"\n",
    "    resamples class imbalance using SMOTE: \n",
    "    https://imbalanced-learn.org/stable/references/generated/imblearn.over_sampling.SMOTE.html\n",
    "    \"\"\"\n",
    "    sm = SMOTE(random_state=RANDOM_STATE)\n",
    "    X_train, y_train = sm.fit_resample(X_train, y_train)\n",
    "    return X_train, y_train"
   ]
  },
  {
   "cell_type": "code",
   "execution_count": null,
   "id": "77ebe854",
   "metadata": {},
   "outputs": [],
   "source": []
  }
 ],
 "metadata": {
  "kernelspec": {
   "display_name": "Python 3",
   "language": "python",
   "name": "python3"
  },
  "language_info": {
   "codemirror_mode": {
    "name": "ipython",
    "version": 3
   },
   "file_extension": ".py",
   "mimetype": "text/x-python",
   "name": "python",
   "nbconvert_exporter": "python",
   "pygments_lexer": "ipython3",
   "version": "3.8.8"
  }
 },
 "nbformat": 4,
 "nbformat_minor": 5
}
